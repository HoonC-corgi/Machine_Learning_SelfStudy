{
  "nbformat": 4,
  "nbformat_minor": 0,
  "metadata": {
    "colab": {
      "provenance": [],
      "authorship_tag": "ABX9TyMuDYUzdtmPopJ8bCTsBR50",
      "include_colab_link": true
    },
    "kernelspec": {
      "name": "python3",
      "display_name": "Python 3"
    },
    "language_info": {
      "name": "python"
    }
  },
  "cells": [
    {
      "cell_type": "markdown",
      "metadata": {
        "id": "view-in-github",
        "colab_type": "text"
      },
      "source": [
        "<a href=\"https://colab.research.google.com/github/HoonC-corgi/Machine_Learning_SelfStudy/blob/main/08_1_Convolutional_Neural_Network%2C_CNN.ipynb\" target=\"_parent\"><img src=\"https://colab.research.google.com/assets/colab-badge.svg\" alt=\"Open In Colab\"/></a>"
      ]
    },
    {
      "cell_type": "code",
      "execution_count": 2,
      "metadata": {
        "colab": {
          "base_uri": "https://localhost:8080/"
        },
        "id": "W1ISlGtCehSX",
        "outputId": "a21ea9a1-6622-4363-a93b-c93ac3a012d8"
      },
      "outputs": [
        {
          "output_type": "execute_result",
          "data": {
            "text/plain": [
              "<keras.layers.convolutional.conv2d.Conv2D at 0x7f717fa31c10>"
            ]
          },
          "metadata": {},
          "execution_count": 2
        }
      ],
      "source": [
        "from tensorflow import keras\n",
        "keras.layers.Conv2D(10, kernel_size=(3,3), activation='relu')\n",
        "# Conv2D(필터의 개수, 커널 사이즈, 활성화 함수)"
      ]
    },
    {
      "cell_type": "code",
      "source": [
        "keras.layers.Conv2D(10, kernel_size=(3,3), activation='relu', padding='same')   # 매개변수 padding의 디폴트는 'valid'"
      ],
      "metadata": {
        "colab": {
          "base_uri": "https://localhost:8080/"
        },
        "id": "YeuQZRL-iW4o",
        "outputId": "2d4d9c3a-a469-44dd-91a8-83586e9e4fd8"
      },
      "execution_count": 3,
      "outputs": [
        {
          "output_type": "execute_result",
          "data": {
            "text/plain": [
              "<keras.layers.convolutional.conv2d.Conv2D at 0x7f717e425040>"
            ]
          },
          "metadata": {},
          "execution_count": 3
        }
      ]
    },
    {
      "cell_type": "code",
      "source": [
        "keras.layers.Conv2D(10, kernel_size=(3,3), activation='relu', padding='same', strides=1)    # 매개변수 strides는 필터링의 이동 크기, 디폴트는 1"
      ],
      "metadata": {
        "colab": {
          "base_uri": "https://localhost:8080/"
        },
        "id": "-e36JruLmDXD",
        "outputId": "3eae3438-cc18-4e13-ce27-bf705843dcec"
      },
      "execution_count": 4,
      "outputs": [
        {
          "output_type": "execute_result",
          "data": {
            "text/plain": [
              "<keras.layers.convolutional.conv2d.Conv2D at 0x7f717e3c84c0>"
            ]
          },
          "metadata": {},
          "execution_count": 4
        }
      ]
    },
    {
      "cell_type": "code",
      "source": [
        "# 풀링 진행\n",
        "keras.layers.MaxPooling2D(2)   # 가로 세로의 풀링 크기를 다르게 하려면 튜플로 지정하면 됨 ex) ((2,3))"
      ],
      "metadata": {
        "colab": {
          "base_uri": "https://localhost:8080/"
        },
        "id": "o9IXkNEXmYdA",
        "outputId": "e9ad9883-631d-433b-e2a9-4115311037c7"
      },
      "execution_count": 5,
      "outputs": [
        {
          "output_type": "execute_result",
          "data": {
            "text/plain": [
              "<keras.layers.pooling.max_pooling2d.MaxPooling2D at 0x7f717e3695e0>"
            ]
          },
          "metadata": {},
          "execution_count": 5
        }
      ]
    },
    {
      "cell_type": "code",
      "source": [
        "keras.layers.MaxPooling2D(2, strides=2, padding='valid')"
      ],
      "metadata": {
        "colab": {
          "base_uri": "https://localhost:8080/"
        },
        "id": "AFj7Pxr5nauj",
        "outputId": "6425b65e-ec03-421f-b5c3-dc8911e56248"
      },
      "execution_count": 7,
      "outputs": [
        {
          "output_type": "execute_result",
          "data": {
            "text/plain": [
              "<keras.layers.pooling.max_pooling2d.MaxPooling2D at 0x7f717e369850>"
            ]
          },
          "metadata": {},
          "execution_count": 7
        }
      ]
    },
    {
      "cell_type": "markdown",
      "source": [
        "# 총 정리"
      ],
      "metadata": {
        "id": "Yo1M1Qj7p0Of"
      }
    },
    {
      "cell_type": "markdown",
      "source": [
        "## 키워드"
      ],
      "metadata": {
        "id": "rshAqQOcp2Ll"
      }
    },
    {
      "cell_type": "markdown",
      "source": [
        "### 합성곱\n",
        "      밀집층과 비슷하게 입력과 가중치를 곱하고 절편을 더하는 선형 계산\n",
        "      밀집층과는 달리 각 합성곱은 입력 전체가 아닌 일부만 사용하여 계산을 수행"
      ],
      "metadata": {
        "id": "brV38X1Cp38N"
      }
    },
    {
      "cell_type": "markdown",
      "source": [
        "### 필터\n",
        "      합성곱 층의 필터는 밀집층의 뉴런에 해당 됨\n",
        "      필터의 가중치와 절편을 종종 커널이라 부름\n",
        "      커널은 일반적으로 (3,3), (5,5)fmf tkdyd\n",
        "      커너르이 깊이는 입력의 깊이와 같음"
      ],
      "metadata": {
        "id": "RIw_r-2Tp_Dv"
      }
    },
    {
      "cell_type": "markdown",
      "source": [
        "### 특성 맵\n",
        "      합성곱 층이나 풀링 층의 출력 배열\n",
        "      필터 하나가 하나의 특성 맵을 만듦 >> 필터 개수 == 특성 맵\n",
        "      합성 곱 층에서 5개의 필터 적용 >> 5개의 특성 맵"
      ],
      "metadata": {
        "id": "QcKuY1g5qJSw"
      }
    },
    {
      "cell_type": "markdown",
      "source": [
        "### 패딩\n",
        "      합성곱 층의 입력 주위에 추가한 0으로 채워진 픽셀\n",
        "      패딩을 사용하지 않는 것은 '밸리드 패딩'\n",
        "      0으로 채우는 것을 '세임 패딩'이라 함\n",
        "      패딩을 통해 합성곱 층의 출력 크기를 입력과 동일하게 만들 수 있음"
      ],
      "metadata": {
        "id": "qfzqxY03qWKl"
      }
    },
    {
      "cell_type": "markdown",
      "source": [
        "### 스트라이드\n",
        "      합성곱 층에서 필터가 입력 위를 이동하는 크기\n",
        "      일반적으로 1픽셀을 사용"
      ],
      "metadata": {
        "id": "e5JRpcdDqkfJ"
      }
    },
    {
      "cell_type": "markdown",
      "source": [
        "### 풀링\n",
        "      가중치가 없고 특성 맵의 가로세로 크기를 줄이는 역할을 수행\n",
        "      대표적으로 최대 풀링, 평균 풀링이 있으며 (2,2) 풀링으로 입력을 절반으로 줄임"
      ],
      "metadata": {
        "id": "7AAJL_VWqrmn"
      }
    },
    {
      "cell_type": "markdown",
      "source": [
        "# 팁"
      ],
      "metadata": {
        "id": "RJd1DdG9saF4"
      }
    },
    {
      "cell_type": "markdown",
      "source": [
        "*  밀집층에서는 뉴런의 개수 = 출력의 개수, 입력 개수에 상관 없이 동일\n",
        "\n",
        "*  합성곱에서는 입력 데이터 전체가 아닌일부에 가중치를 곱하기 때문에 가중치 개수를 정하기 나름\n",
        "\n",
        "* 첫 번째 합성곱에 사용된 가중치 w^1~w^n과 절편 b가 그대로 다음 합성곱에도 사용\n",
        "\n",
        "* 합성곱에서의 뉴런 = 필터\n",
        "\n",
        "* 합성곱에서의 가중치 = 커널\n",
        "\n",
        "* 하나의 필터는 반드시 하나의 출력을 만들어 냄(커널의 크기와는 무관)\n",
        "\n",
        "* 합성곱 계산을 통해 얻은 출력을 특성 맵이라고 함\n",
        "\n",
        "* 커널의 크기는 일반적으로 (3,3), (5,5)를 사용\n",
        "\n",
        "## 패딩\n",
        "\n",
        "* 세임 패딩은 0으로 채우기 때문에 계산에 영향을 주지는 않음\n",
        "\n",
        "* 패딩의 목적은 데이터의 고른 활용을 통해 정확도를 높이는 것에 있다\n",
        "\n",
        "* 합성곱에서 스트라이드를 크게 하여 특성 맵을 줄이는 것 보다 풀링 층에서 크기를 줄이는 것이 효과적\n",
        "\n",
        "## 풀링\n",
        "\n",
        "* 풀링은 특성 맵의 크기를 줄일 뿐, 개수와는 무관하다.\n",
        "\n",
        "* 풀링 (스트라이드 크기), ex) (2, 2)를 하면 절반으로 크기가 줄어듦\n",
        "\n",
        "* 풀링 이후에도 특성 맵의 개수에는 변화가 없음\n",
        "\n",
        "* 합성곱 신경망의 구조 | 입력 > 합성곱 층(세임 패딩) > 풀링층 > 밀집층으로, 밀집 층에서 Flatten 층을 통해 1차원으로 펼쳐 계산을 수행\n",
        "\n",
        "* 합성곱층의 활성화 함수\n",
        "\n",
        "## 컬러 이미지를 사용한 합성곱\n",
        "\n",
        "* RGB는 3개의 채널로 구성되어 있기에 3차원 배열로 표현됨, 따라서 깊이 3이 됨\n",
        "\n",
        "* 커널 배열의 깊이 역시 (n, n, 3)의 형식\n",
        "\n",
        "* 필터의 차원 역시 3의 깊이를 가지지만, 출력은 항상 하나를 가짐\n",
        "\n",
        "* 케라스의 합성곱 층은 항상 3차원 입력을 기대, 흑백 이미지의 경우에도 깊이 차원이 1인 3차원 배열로 변환하여 전달, ex)(28, 28) > (28, 28, 1)\n"
      ],
      "metadata": {
        "id": "IH3TRZaVsbQC"
      }
    }
  ]
}