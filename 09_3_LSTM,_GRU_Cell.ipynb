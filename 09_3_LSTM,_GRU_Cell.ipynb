{
  "nbformat": 4,
  "nbformat_minor": 0,
  "metadata": {
    "colab": {
      "provenance": [],
      "authorship_tag": "ABX9TyOO82rcXFUOhWf5JwCzKl1j",
      "include_colab_link": true
    },
    "kernelspec": {
      "name": "python3",
      "display_name": "Python 3"
    },
    "language_info": {
      "name": "python"
    }
  },
  "cells": [
    {
      "cell_type": "markdown",
      "metadata": {
        "id": "view-in-github",
        "colab_type": "text"
      },
      "source": [
        "<a href=\"https://colab.research.google.com/github/HoonC-corgi/Machine_Learning_SelfStudy/blob/main/09_3_LSTM%2C_GRU_Cell.ipynb\" target=\"_parent\"><img src=\"https://colab.research.google.com/assets/colab-badge.svg\" alt=\"Open In Colab\"/></a>"
      ]
    },
    {
      "cell_type": "markdown",
      "source": [
        "# LSTM 신경망 훈련하기"
      ],
      "metadata": {
        "id": "y9BQcnQa0OQe"
      }
    },
    {
      "cell_type": "code",
      "execution_count": 3,
      "metadata": {
        "colab": {
          "base_uri": "https://localhost:8080/"
        },
        "id": "Zuk-jZrVxZQf",
        "outputId": "1655742a-63da-4bc0-e960-2f005bbdcad9"
      },
      "outputs": [
        {
          "output_type": "stream",
          "name": "stdout",
          "text": [
            "Downloading data from https://storage.googleapis.com/tensorflow/tf-keras-datasets/imdb.npz\n",
            "17464789/17464789 [==============================] - 0s 0us/step\n"
          ]
        }
      ],
      "source": [
        "from tensorflow.keras.datasets import imdb\n",
        "from sklearn.model_selection import train_test_split\n",
        "(train_input, train_target), (test_input, test_target) = imdb.load_data(num_words=500)\n",
        "train_input, val_input, train_target, val_target = train_test_split( train_input, train_target, test_size=0.2, random_state=42)"
      ]
    },
    {
      "cell_type": "code",
      "source": [
        "# pad_sequences() 메소드로 각샘플의 길이를 100에 맞춤\n",
        "from tensorflow.keras.preprocessing.sequence import pad_sequences\n",
        "train_seq = pad_sequences(train_input, maxlen=100)\n",
        "val_seq = pad_sequences(val_input, maxlen=100)"
      ],
      "metadata": {
        "id": "tz62Qww80pbj"
      },
      "execution_count": 12,
      "outputs": []
    },
    {
      "cell_type": "code",
      "source": [
        "# LSTM 셀을 사용한 순환층을 만들어 보면,\n",
        "from tensorflow import keras\n",
        "model = keras.Sequential()\n",
        "model.add(keras.layers.Embedding(500, 16, input_length=100))   # 500개의 토큰을 16 벡터 크기의 토큰 100개로 바꿈\n",
        "model.add(keras.layers.LSTM(8))\n",
        "model.add(keras.layers.Dense(1, activation='sigmoid'))"
      ],
      "metadata": {
        "id": "IFSiNPMJ1iqC"
      },
      "execution_count": null,
      "outputs": []
    },
    {
      "cell_type": "code",
      "source": [
        "model.summary()"
      ],
      "metadata": {
        "colab": {
          "base_uri": "https://localhost:8080/"
        },
        "id": "-0AT7Om719-3",
        "outputId": "e4cddf2b-faeb-4007-c49b-fe319019f564"
      },
      "execution_count": 14,
      "outputs": [
        {
          "output_type": "stream",
          "name": "stdout",
          "text": [
            "Model: \"sequential\"\n",
            "_________________________________________________________________\n",
            " Layer (type)                Output Shape              Param #   \n",
            "=================================================================\n",
            " embedding (Embedding)       (None, 100, 16)           8000      \n",
            "                                                                 \n",
            " lstm (LSTM)                 (None, 8)                 800       \n",
            "                                                                 \n",
            " dense (Dense)               (None, 1)                 9         \n",
            "                                                                 \n",
            "=================================================================\n",
            "Total params: 8,809\n",
            "Trainable params: 8,809\n",
            "Non-trainable params: 0\n",
            "_________________________________________________________________\n"
          ]
        }
      ]
    },
    {
      "cell_type": "markdown",
      "source": [
        "SImpleRNN 클래스의 모델 파라미터 개수 = 뉴런 8개 X 임베딩 벡터 크기 16 + 은닉 상태에 곱해지는 가중치 8 X 8 + 절편8 개 = 200, 동일 조건에 LSTM 셀에는 작은셀이 4개 이므로 800"
      ],
      "metadata": {
        "id": "DW4cE0F62UWF"
      }
    },
    {
      "cell_type": "code",
      "source": [
        "rmsprop = keras.optimizers.RMSprop(learning_rate=1e-4)\n",
        "model.compile(optimizer=rmsprop, loss='binary_crossentropy',\n",
        "              metrics=['accuracy'])\n",
        "checkpoint_cb = keras.callbacks.ModelCheckpoint('best-lstm-model.h5', save_best_only=True)\n",
        "early_stopping_cb = keras.callbacks.EarlyStopping(patience=3, restore_best_weights=True)\n",
        "history = model.fit(train_seq, train_target, epochs=100, batch_size=64,\n",
        "                    validation_data=(val_seq, val_target),\n",
        "                    callbacks=[checkpoint_cb, early_stopping_cb])"
      ],
      "metadata": {
        "colab": {
          "base_uri": "https://localhost:8080/"
        },
        "id": "nAv56VJq2Onk",
        "outputId": "b220bd03-76a9-431c-95e1-3d595bdb0836"
      },
      "execution_count": 15,
      "outputs": [
        {
          "output_type": "stream",
          "name": "stdout",
          "text": [
            "Epoch 1/100\n",
            "313/313 [==============================] - 24s 67ms/step - loss: 0.6927 - accuracy: 0.5210 - val_loss: 0.6921 - val_accuracy: 0.5424\n",
            "Epoch 2/100\n",
            "313/313 [==============================] - 31s 100ms/step - loss: 0.6910 - accuracy: 0.5676 - val_loss: 0.6901 - val_accuracy: 0.5822\n",
            "Epoch 3/100\n",
            "313/313 [==============================] - 28s 89ms/step - loss: 0.6883 - accuracy: 0.6028 - val_loss: 0.6867 - val_accuracy: 0.6054\n",
            "Epoch 4/100\n",
            "313/313 [==============================] - 20s 64ms/step - loss: 0.6835 - accuracy: 0.6178 - val_loss: 0.6808 - val_accuracy: 0.6212\n",
            "Epoch 5/100\n",
            "313/313 [==============================] - 18s 56ms/step - loss: 0.6754 - accuracy: 0.6326 - val_loss: 0.6707 - val_accuracy: 0.6346\n",
            "Epoch 6/100\n",
            "313/313 [==============================] - 17s 56ms/step - loss: 0.6610 - accuracy: 0.6532 - val_loss: 0.6516 - val_accuracy: 0.6570\n",
            "Epoch 7/100\n",
            "313/313 [==============================] - 23s 73ms/step - loss: 0.6297 - accuracy: 0.6811 - val_loss: 0.5987 - val_accuracy: 0.7100\n",
            "Epoch 8/100\n",
            "313/313 [==============================] - 27s 87ms/step - loss: 0.5556 - accuracy: 0.7354 - val_loss: 0.5377 - val_accuracy: 0.7408\n",
            "Epoch 9/100\n",
            "313/313 [==============================] - 27s 85ms/step - loss: 0.5223 - accuracy: 0.7538 - val_loss: 0.5187 - val_accuracy: 0.7534\n",
            "Epoch 10/100\n",
            "313/313 [==============================] - 25s 81ms/step - loss: 0.5024 - accuracy: 0.7660 - val_loss: 0.5029 - val_accuracy: 0.7618\n",
            "Epoch 11/100\n",
            "313/313 [==============================] - 26s 83ms/step - loss: 0.4867 - accuracy: 0.7740 - val_loss: 0.4932 - val_accuracy: 0.7666\n",
            "Epoch 12/100\n",
            "313/313 [==============================] - 30s 96ms/step - loss: 0.4732 - accuracy: 0.7817 - val_loss: 0.4787 - val_accuracy: 0.7756\n",
            "Epoch 13/100\n",
            "313/313 [==============================] - 29s 92ms/step - loss: 0.4626 - accuracy: 0.7882 - val_loss: 0.4743 - val_accuracy: 0.7796\n",
            "Epoch 14/100\n",
            "313/313 [==============================] - 30s 96ms/step - loss: 0.4540 - accuracy: 0.7951 - val_loss: 0.4643 - val_accuracy: 0.7820\n",
            "Epoch 15/100\n",
            "313/313 [==============================] - 31s 98ms/step - loss: 0.4471 - accuracy: 0.7987 - val_loss: 0.4596 - val_accuracy: 0.7894\n",
            "Epoch 16/100\n",
            "313/313 [==============================] - 26s 83ms/step - loss: 0.4414 - accuracy: 0.8003 - val_loss: 0.4555 - val_accuracy: 0.7886\n",
            "Epoch 17/100\n",
            "313/313 [==============================] - 27s 86ms/step - loss: 0.4363 - accuracy: 0.8052 - val_loss: 0.4534 - val_accuracy: 0.7910\n",
            "Epoch 18/100\n",
            "313/313 [==============================] - 23s 73ms/step - loss: 0.4329 - accuracy: 0.8069 - val_loss: 0.4504 - val_accuracy: 0.7892\n",
            "Epoch 19/100\n",
            "313/313 [==============================] - 19s 61ms/step - loss: 0.4296 - accuracy: 0.8094 - val_loss: 0.4476 - val_accuracy: 0.7910\n",
            "Epoch 20/100\n",
            "313/313 [==============================] - 18s 58ms/step - loss: 0.4274 - accuracy: 0.8093 - val_loss: 0.4456 - val_accuracy: 0.7924\n",
            "Epoch 21/100\n",
            "313/313 [==============================] - 17s 54ms/step - loss: 0.4252 - accuracy: 0.8101 - val_loss: 0.4472 - val_accuracy: 0.7940\n",
            "Epoch 22/100\n",
            "313/313 [==============================] - 20s 64ms/step - loss: 0.4232 - accuracy: 0.8114 - val_loss: 0.4437 - val_accuracy: 0.7936\n",
            "Epoch 23/100\n",
            "313/313 [==============================] - 22s 71ms/step - loss: 0.4223 - accuracy: 0.8125 - val_loss: 0.4429 - val_accuracy: 0.7940\n",
            "Epoch 24/100\n",
            "313/313 [==============================] - 23s 75ms/step - loss: 0.4205 - accuracy: 0.8117 - val_loss: 0.4442 - val_accuracy: 0.7940\n",
            "Epoch 25/100\n",
            "313/313 [==============================] - 24s 78ms/step - loss: 0.4194 - accuracy: 0.8126 - val_loss: 0.4423 - val_accuracy: 0.7924\n",
            "Epoch 26/100\n",
            "313/313 [==============================] - 26s 83ms/step - loss: 0.4185 - accuracy: 0.8141 - val_loss: 0.4408 - val_accuracy: 0.7946\n",
            "Epoch 27/100\n",
            "313/313 [==============================] - 34s 107ms/step - loss: 0.4176 - accuracy: 0.8126 - val_loss: 0.4441 - val_accuracy: 0.7970\n",
            "Epoch 28/100\n",
            "313/313 [==============================] - 30s 96ms/step - loss: 0.4162 - accuracy: 0.8138 - val_loss: 0.4429 - val_accuracy: 0.7966\n",
            "Epoch 29/100\n",
            "313/313 [==============================] - 23s 74ms/step - loss: 0.4162 - accuracy: 0.8139 - val_loss: 0.4395 - val_accuracy: 0.7962\n",
            "Epoch 30/100\n",
            "313/313 [==============================] - 23s 73ms/step - loss: 0.4155 - accuracy: 0.8142 - val_loss: 0.4396 - val_accuracy: 0.7962\n",
            "Epoch 31/100\n",
            "313/313 [==============================] - 28s 90ms/step - loss: 0.4147 - accuracy: 0.8141 - val_loss: 0.4412 - val_accuracy: 0.7922\n",
            "Epoch 32/100\n",
            "313/313 [==============================] - 27s 86ms/step - loss: 0.4142 - accuracy: 0.8144 - val_loss: 0.4380 - val_accuracy: 0.7970\n",
            "Epoch 33/100\n",
            "313/313 [==============================] - 29s 93ms/step - loss: 0.4137 - accuracy: 0.8152 - val_loss: 0.4386 - val_accuracy: 0.7970\n",
            "Epoch 34/100\n",
            "313/313 [==============================] - 31s 100ms/step - loss: 0.4129 - accuracy: 0.8145 - val_loss: 0.4374 - val_accuracy: 0.7950\n",
            "Epoch 35/100\n",
            "313/313 [==============================] - 29s 91ms/step - loss: 0.4120 - accuracy: 0.8153 - val_loss: 0.4374 - val_accuracy: 0.7974\n",
            "Epoch 36/100\n",
            "313/313 [==============================] - 28s 91ms/step - loss: 0.4123 - accuracy: 0.8150 - val_loss: 0.4382 - val_accuracy: 0.7970\n",
            "Epoch 37/100\n",
            "313/313 [==============================] - 25s 79ms/step - loss: 0.4115 - accuracy: 0.8163 - val_loss: 0.4362 - val_accuracy: 0.7944\n",
            "Epoch 38/100\n",
            "313/313 [==============================] - 19s 61ms/step - loss: 0.4111 - accuracy: 0.8148 - val_loss: 0.4367 - val_accuracy: 0.7978\n",
            "Epoch 39/100\n",
            "313/313 [==============================] - 22s 69ms/step - loss: 0.4106 - accuracy: 0.8149 - val_loss: 0.4364 - val_accuracy: 0.7972\n",
            "Epoch 40/100\n",
            "313/313 [==============================] - 18s 57ms/step - loss: 0.4104 - accuracy: 0.8155 - val_loss: 0.4356 - val_accuracy: 0.7992\n",
            "Epoch 41/100\n",
            "313/313 [==============================] - 18s 57ms/step - loss: 0.4101 - accuracy: 0.8152 - val_loss: 0.4351 - val_accuracy: 0.7964\n",
            "Epoch 42/100\n",
            "313/313 [==============================] - 18s 56ms/step - loss: 0.4093 - accuracy: 0.8146 - val_loss: 0.4365 - val_accuracy: 0.7992\n",
            "Epoch 43/100\n",
            "313/313 [==============================] - 18s 56ms/step - loss: 0.4091 - accuracy: 0.8158 - val_loss: 0.4403 - val_accuracy: 0.7946\n",
            "Epoch 44/100\n",
            "313/313 [==============================] - 18s 56ms/step - loss: 0.4087 - accuracy: 0.8147 - val_loss: 0.4350 - val_accuracy: 0.7978\n",
            "Epoch 45/100\n",
            "313/313 [==============================] - 20s 63ms/step - loss: 0.4086 - accuracy: 0.8157 - val_loss: 0.4349 - val_accuracy: 0.7992\n",
            "Epoch 46/100\n",
            "313/313 [==============================] - 18s 56ms/step - loss: 0.4078 - accuracy: 0.8164 - val_loss: 0.4363 - val_accuracy: 0.7966\n",
            "Epoch 47/100\n",
            "313/313 [==============================] - 20s 63ms/step - loss: 0.4076 - accuracy: 0.8165 - val_loss: 0.4334 - val_accuracy: 0.7972\n",
            "Epoch 48/100\n",
            "313/313 [==============================] - 26s 83ms/step - loss: 0.4072 - accuracy: 0.8173 - val_loss: 0.4331 - val_accuracy: 0.7964\n",
            "Epoch 49/100\n",
            "313/313 [==============================] - 28s 89ms/step - loss: 0.4069 - accuracy: 0.8160 - val_loss: 0.4345 - val_accuracy: 0.7974\n",
            "Epoch 50/100\n",
            "313/313 [==============================] - 20s 63ms/step - loss: 0.4068 - accuracy: 0.8160 - val_loss: 0.4335 - val_accuracy: 0.7988\n",
            "Epoch 51/100\n",
            "313/313 [==============================] - 23s 73ms/step - loss: 0.4061 - accuracy: 0.8173 - val_loss: 0.4337 - val_accuracy: 0.7980\n"
          ]
        }
      ]
    },
    {
      "cell_type": "code",
      "source": [
        "# 그림으로 그려 보면,\n",
        "import matplotlib.pyplot as plt\n",
        "plt.plot(history.history['loss'])\n",
        "plt.plot(history.history['val_loss'])\n",
        "plt.xlabel('epoch')\n",
        "plt.ylabel('loss')\n",
        "plt.legend(['train', 'val'])\n",
        "plt.show()"
      ],
      "metadata": {
        "colab": {
          "base_uri": "https://localhost:8080/",
          "height": 279
        },
        "id": "yQD0Em8B3KZt",
        "outputId": "ddb08bc0-7d17-4b67-d759-62a02869cde9"
      },
      "execution_count": 16,
      "outputs": [
        {
          "output_type": "display_data",
          "data": {
            "text/plain": [
              "<Figure size 432x288 with 1 Axes>"
            ],
            "image/png": "[encoded data removed]"
          },
          "metadata": {
            "needs_background": "light"
          }
        }
      ]
    },
    {
      "cell_type": "markdown",
      "source": [
        "# 순환층에 드롭아웃 적용하기"
      ],
      "metadata": {
        "id": "G0HFgbpk4NC1"
      }
    },
    {
      "cell_type": "code",
      "source": [
        "model2 = keras.Sequential()\n",
        "model2.add(keras.layers.Embedding(500, 16, input_length=100))\n",
        "model2.add(keras.layers.LSTM(8, dropout=0.3))\n",
        "model2.add(keras.layers.Dense(1, activation='sigmoid'))"
      ],
      "metadata": {
        "id": "JIaMaKVK4Jqu"
      },
      "execution_count": 17,
      "outputs": []
    },
    {
      "cell_type": "code",
      "source": [
        "rmsprop = keras.optimizers.RMSprop(learning_rate=13-4)\n",
        "model2.compile(optimizer=rmsprop, loss='binary_crossentropy',\n",
        "               metrics=['accuracy'])\n",
        "checkpoint_cb = keras.callbacks.ModelCheckpoint('best-dropout-model.h5', save_best_only=True)\n",
        "early_stopping_cb = keras.callbacks.EarlyStopping(patience=3, restore_best_weights=True)\n",
        "history = model2.fit(train_seq, train_target, epochs=100, batch_size=64,\n",
        "                     validation_data=(val_seq, val_target),\n",
        "                     callbacks=[checkpoint_cb, early_stopping_cb])"
      ],
      "metadata": {
        "colab": {
          "base_uri": "https://localhost:8080/"
        },
        "id": "d2QiY2h74qEV",
        "outputId": "03e64b8c-2bc6-49cf-ebe5-05ba90ce759b"
      },
      "execution_count": 19,
      "outputs": [
        {
          "output_type": "stream",
          "name": "stdout",
          "text": [
            "Epoch 1/100\n",
            "313/313 [==============================] - 27s 76ms/step - loss: 3.9425 - accuracy: 0.5060 - val_loss: 2.7270 - val_accuracy: 0.4928\n",
            "Epoch 2/100\n",
            "313/313 [==============================] - 20s 65ms/step - loss: 4.4283 - accuracy: 0.5084 - val_loss: 2.6201 - val_accuracy: 0.4978\n",
            "Epoch 3/100\n",
            "313/313 [==============================] - 21s 68ms/step - loss: 3.6167 - accuracy: 0.4994 - val_loss: 2.7761 - val_accuracy: 0.5220\n",
            "Epoch 4/100\n",
            "313/313 [==============================] - 19s 61ms/step - loss: 4.4174 - accuracy: 0.5005 - val_loss: 2.1688 - val_accuracy: 0.5098\n",
            "Epoch 5/100\n",
            "313/313 [==============================] - 20s 65ms/step - loss: 4.0801 - accuracy: 0.5010 - val_loss: 2.5596 - val_accuracy: 0.5000\n",
            "Epoch 6/100\n",
            "313/313 [==============================] - 25s 80ms/step - loss: 3.7669 - accuracy: 0.5005 - val_loss: 3.0257 - val_accuracy: 0.5122\n",
            "Epoch 7/100\n",
            "313/313 [==============================] - 20s 64ms/step - loss: 3.4737 - accuracy: 0.5066 - val_loss: 2.5861 - val_accuracy: 0.4798\n"
          ]
        }
      ]
    },
    {
      "cell_type": "code",
      "source": [
        "# 드롭아웃을 적용한 순환층을 그려 보면,\n",
        "plt.plot(history.history['loss'])\n",
        "plt.plot(history.history['val_loss'])\n",
        "plt.xlabel('epoch')\n",
        "plt.ylabel('loss')\n",
        "plt.legend(['train', 'val'])\n",
        "plt.show()"
      ],
      "metadata": {
        "colab": {
          "base_uri": "https://localhost:8080/",
          "height": 280
        },
        "id": "7Wmwr1D15Ql8",
        "outputId": "4bb13ea9-eed4-424d-ea7d-1874fbf598f2"
      },
      "execution_count": 20,
      "outputs": [
        {
          "output_type": "display_data",
          "data": {
            "text/plain": [
              "<Figure size 432x288 with 1 Axes>"
            ],
            "image/png": "[encoded data removed]"
          },
          "metadata": {
            "needs_background": "light"
          }
        }
      ]
    },
    {
      "cell_type": "markdown",
      "source": [
        "# 2개의 층을 연결하기\n",
        "      순환층을 쌓게 되면 모든 순환층에 수나 데이터가 필요, 따라서 앞쪽의 순환층이 모든 타임스텝에 대한 은닉 상태를 출력해야 함, 마지막 층에서만 타임스텝의 은닉 상태를 출력해야 함."
      ],
      "metadata": {
        "id": "hH4dX1cg5mm9"
      }
    },
    {
      "cell_type": "code",
      "source": [
        "# 순환층에서 모든 타임스텝의 은닉 상태를 출력하려면 마지막을 제외한 모든 순환층에서 return_sequences 매개변수를 True로 지정\n",
        "model3 = keras.Sequential()\n",
        "model3.add(keras.layers.Embedding(500, 16, input_length=100))\n",
        "model3.add(keras.layers.LSTM(8, dropout=0.3, return_sequences=True))\n",
        "model3.add(keras.layers.LSTM(8, dropout=0.3))\n",
        "model3.add(keras.layers.Dense(1, activation='sigmoid'))"
      ],
      "metadata": {
        "id": "VpEWjV8o5jCV"
      },
      "execution_count": 21,
      "outputs": []
    },
    {
      "cell_type": "code",
      "source": [
        "model3.summary()"
      ],
      "metadata": {
        "colab": {
          "base_uri": "https://localhost:8080/"
        },
        "id": "UHVw-lnS6gJj",
        "outputId": "a7826de9-4a23-41f5-cbca-45c45f00d2f0"
      },
      "execution_count": 22,
      "outputs": [
        {
          "output_type": "stream",
          "name": "stdout",
          "text": [
            "Model: \"sequential_2\"\n",
            "_________________________________________________________________\n",
            " Layer (type)                Output Shape              Param #   \n",
            "=================================================================\n",
            " embedding_2 (Embedding)     (None, 100, 16)           8000      \n",
            "                                                                 \n",
            " lstm_2 (LSTM)               (None, 100, 8)            800       \n",
            "                                                                 \n",
            " lstm_3 (LSTM)               (None, 8)                 544       \n",
            "                                                                 \n",
            " dense_2 (Dense)             (None, 1)                 9         \n",
            "                                                                 \n",
            "=================================================================\n",
            "Total params: 9,353\n",
            "Trainable params: 9,353\n",
            "Non-trainable params: 0\n",
            "_________________________________________________________________\n"
          ]
        }
      ]
    },
    {
      "cell_type": "code",
      "source": [
        "rmsprop = keras.optimizers.RMSprop(learning_rate=13-4)\n",
        "model3.compile(optimizer=rmsprop, loss='binary_crossentropy',\n",
        "               metrics=['accuracy'])\n",
        "checkpoint_cb = keras.callbacks.ModelCheckpoint('best-2rnn-model.h5',\n",
        "                                                save_best_only=True)\n",
        "early_stopping_cb = keras.callbacks.EarlyStopping(patience=3, restore_best_weights=True)\n",
        "hisory = model3.fit(train_seq, train_target, epochs=100, batch_size=64,\n",
        "                    validation_data=(val_seq, val_target),\n",
        "                    callbacks=[checkpoint_cb, early_stopping_cb])"
      ],
      "metadata": {
        "colab": {
          "base_uri": "https://localhost:8080/"
        },
        "id": "CnAYoEce6hrc",
        "outputId": "aa19d735-d296-4a13-adef-2886b1e59df0"
      },
      "execution_count": 25,
      "outputs": [
        {
          "output_type": "stream",
          "name": "stdout",
          "text": [
            "Epoch 1/100\n",
            "313/313 [==============================] - 57s 167ms/step - loss: 3.6983 - accuracy: 0.5029 - val_loss: 2.1902 - val_accuracy: 0.4874\n",
            "Epoch 2/100\n",
            "313/313 [==============================] - 46s 147ms/step - loss: 2.3348 - accuracy: 0.5036 - val_loss: 3.3474 - val_accuracy: 0.4874\n",
            "Epoch 3/100\n",
            "313/313 [==============================] - 39s 126ms/step - loss: 2.2173 - accuracy: 0.5067 - val_loss: 0.9908 - val_accuracy: 0.4874\n",
            "Epoch 4/100\n",
            "313/313 [==============================] - 40s 128ms/step - loss: 2.2269 - accuracy: 0.5019 - val_loss: 3.0662 - val_accuracy: 0.5126\n",
            "Epoch 5/100\n",
            "313/313 [==============================] - 48s 153ms/step - loss: 2.2785 - accuracy: 0.4961 - val_loss: 2.6077 - val_accuracy: 0.4874\n",
            "Epoch 6/100\n",
            "313/313 [==============================] - 44s 141ms/step - loss: 2.2484 - accuracy: 0.4983 - val_loss: 1.1671 - val_accuracy: 0.5126\n"
          ]
        }
      ]
    },
    {
      "cell_type": "code",
      "source": [
        "# 그림을 그려 보면,\n",
        "plt.plot(history.history['loss'])\n",
        "plt.plot(history.history['val_loss'])\n",
        "plt.xlabel('epoch')\n",
        "plt.ylabel('loss')\n",
        "plt.legend(['train', 'val'])\n",
        "plt.show()"
      ],
      "metadata": {
        "colab": {
          "base_uri": "https://localhost:8080/",
          "height": 280
        },
        "id": "g7A30Wpv7JMF",
        "outputId": "c4528a47-9406-4d20-9cb5-f2e21036e4c1"
      },
      "execution_count": 26,
      "outputs": [
        {
          "output_type": "display_data",
          "data": {
            "text/plain": [
              "<Figure size 432x288 with 1 Axes>"
            ],
            "image/png": "[encoded data removed]"
          },
          "metadata": {
            "needs_background": "light"
          }
        }
      ]
    },
    {
      "cell_type": "markdown",
      "source": [
        "# GRU 구조"
      ],
      "metadata": {
        "id": "hL1fxvvg7h8F"
      }
    },
    {
      "cell_type": "markdown",
      "source": [
        "## GRU 신경망 훈련하기"
      ],
      "metadata": {
        "id": "duz5mURn8GPv"
      }
    },
    {
      "cell_type": "code",
      "source": [
        "model4 = keras.Sequential()\n",
        "model4.add(keras.layers.Embedding(500, 16, input_length=100))\n",
        "model4.add(keras.layers.GRU(8))\n",
        "model4.add(keras.layers.Dense(1, activation='sigmoid'))"
      ],
      "metadata": {
        "id": "7gPMnLzK7X9Y"
      },
      "execution_count": 28,
      "outputs": []
    },
    {
      "cell_type": "code",
      "source": [
        "model4.summary()"
      ],
      "metadata": {
        "colab": {
          "base_uri": "https://localhost:8080/"
        },
        "id": "VkyR-EO_8bvK",
        "outputId": "45c6b2bb-cb6a-4942-8c3a-13061b49a250"
      },
      "execution_count": 29,
      "outputs": [
        {
          "output_type": "stream",
          "name": "stdout",
          "text": [
            "Model: \"sequential_3\"\n",
            "_________________________________________________________________\n",
            " Layer (type)                Output Shape              Param #   \n",
            "=================================================================\n",
            " embedding_3 (Embedding)     (None, 100, 16)           8000      \n",
            "                                                                 \n",
            " gru (GRU)                   (None, 8)                 624       \n",
            "                                                                 \n",
            " dense_3 (Dense)             (None, 1)                 9         \n",
            "                                                                 \n",
            "=================================================================\n",
            "Total params: 8,633\n",
            "Trainable params: 8,633\n",
            "Non-trainable params: 0\n",
            "_________________________________________________________________\n"
          ]
        }
      ]
    },
    {
      "cell_type": "markdown",
      "source": [
        "SimpleRNN 모델의 200개에 GRU 셀의 작은 셀 3개가 곱해져 600, GPU의 효율적 활용을 위해 작은 셀마다 추가되는 절편과 뉴런의 개수로 3 X 8 = 24, 624개의 모델 파라미터가 생김, 이론과 구현의 차이가 있다!"
      ],
      "metadata": {
        "id": "idGhHCOR8m46"
      }
    },
    {
      "cell_type": "code",
      "source": [
        "rmsprop = keras.optimizers.RMSprop(learning_rate=1e-4)\n",
        "model4.compile(optimizer=rmsprop, loss='binary_crossentropy',\n",
        "               metrics=['accuracy'])\n",
        "checkpoint_cb = keras.callbacks.ModelCheckpoint('best-gru-model.h5',\n",
        "                                                save_best_only=True)\n",
        "early_stopping_cb = keras.callbacks.EarlyStopping(patience=3, restore_best_weights=True)\n",
        "history = model4.fit(train_seq, train_target, epochs=100, batch_size=64,\n",
        "                     validation_data=(val_seq, val_target),\n",
        "                     callbacks=[checkpoint_cb, early_stopping_cb])"
      ],
      "metadata": {
        "colab": {
          "base_uri": "https://localhost:8080/"
        },
        "id": "WiaWmem28eAx",
        "outputId": "d98e3fe7-c8d3-460c-df99-0ac5012d20a1"
      },
      "execution_count": null,
      "outputs": [
        {
          "output_type": "stream",
          "name": "stdout",
          "text": [
            "Epoch 1/100\n",
            "313/313 [==============================] - 25s 70ms/step - loss: 0.6921 - accuracy: 0.5332 - val_loss: 0.6913 - val_accuracy: 0.5638\n",
            "Epoch 2/100\n",
            "313/313 [==============================] - 21s 68ms/step - loss: 0.6894 - accuracy: 0.5886 - val_loss: 0.6884 - val_accuracy: 0.5852\n",
            "Epoch 3/100\n",
            "313/313 [==============================] - 19s 61ms/step - loss: 0.6851 - accuracy: 0.6115 - val_loss: 0.6833 - val_accuracy: 0.6058\n",
            "Epoch 4/100\n",
            "313/313 [==============================] - 20s 64ms/step - loss: 0.6778 - accuracy: 0.6298 - val_loss: 0.6743 - val_accuracy: 0.6228\n",
            "Epoch 5/100\n",
            "313/313 [==============================] - 19s 62ms/step - loss: 0.6650 - accuracy: 0.6449 - val_loss: 0.6583 - val_accuracy: 0.6458\n",
            "Epoch 6/100\n",
            "313/313 [==============================] - 20s 65ms/step - loss: 0.6414 - accuracy: 0.6679 - val_loss: 0.6276 - val_accuracy: 0.6802\n",
            "Epoch 7/100\n",
            " 45/313 [===>..........................] - ETA: 14s - loss: 0.6172 - accuracy: 0.6885"
          ]
        }
      ]
    },
    {
      "cell_type": "code",
      "source": [
        "# 모델의 손실을 그래프로 그려 보면,\n",
        "plt.plot(history.history['loss'])\n",
        "plt.plt(history.history['val_loss'])\n",
        "plt.xlabel('epoch')\n",
        "plt.ylabel('loss')\n",
        "plt.legend(['train', 'val'])\n",
        "plt.show()"
      ],
      "metadata": {
        "id": "_cbaHoX19mFW"
      },
      "execution_count": null,
      "outputs": []
    },
    {
      "cell_type": "markdown",
      "source": [
        "# LSTM과 GRU 셀로 훈련"
      ],
      "metadata": {
        "id": "UdyZtoS6-Rsn"
      }
    },
    {
      "cell_type": "code",
      "source": [
        "test_seq = pad_sequences(test_input, maxlen=100)\n",
        "rnn_model = keras.models.load_model('best-2rnn-model.h5')\n",
        "rnn_model.evaluate(test_seq, test_target)"
      ],
      "metadata": {
        "id": "YEQImX6Z-FOi"
      },
      "execution_count": null,
      "outputs": []
    },
    {
      "cell_type": "code",
      "source": [],
      "metadata": {
        "id": "8cfhHRWL-dfU"
      },
      "execution_count": null,
      "outputs": []
    },
    {
      "cell_type": "markdown",
      "source": [
        "# 총 정리"
      ],
      "metadata": {
        "id": "ogxViSX_-j_d"
      }
    },
    {
      "cell_type": "markdown",
      "source": [
        "## 키워드"
      ],
      "metadata": {
        "id": "te2_xlgb-lQN"
      }
    },
    {
      "cell_type": "markdown",
      "source": [
        "### LSTM\n",
        "      LSTM 셀은 타임스텝이 긴 데이터를 효과적으로 학습하기 위해 고안된 순환층\n",
        "      입력 게이트, 삭제 게이트, 출력 게이트 역할을 하는 작은 셀들이 포함되어 있음"
      ],
      "metadata": {
        "id": "iW_JShNm-mX0"
      }
    },
    {
      "cell_type": "markdown",
      "source": [
        "### 셀 상태\n",
        "      LSTM 셀은 은닉 상태 외에 셀 상태를 출력함\n",
        "      셀 상태는 다음 층으로 전달되지 않으며 현재 셀에서 순환되며 은닉 상태에 영향을 미침"
      ],
      "metadata": {
        "id": "3w2mxeDo-vUe"
      }
    },
    {
      "cell_type": "markdown",
      "source": [
        "### GRU\n",
        "      LSTM 셀의 간소화 버전이나 좋은 성능을 보임"
      ],
      "metadata": {
        "id": "94wU27m--4EP"
      }
    },
    {
      "cell_type": "markdown",
      "source": [
        "## 핵심 패키지와 함수"
      ],
      "metadata": {
        "id": "WxZqfbQN_AJm"
      }
    },
    {
      "cell_type": "markdown",
      "source": [
        "###Tensorflow"
      ],
      "metadata": {
        "id": "oG7LmXfg_CVu"
      }
    },
    {
      "cell_type": "markdown",
      "source": [
        "#### LSTM\n",
        "      LSTM 셀을 사용한 순환층 클래스\n",
        "      첫 번째 매개변수에서 뉴런의 개수를 지정\n",
        "      dropout 매개변수에서 입력에 대한 드롭아웃 비율을 지정\n",
        "      return_sequences 매개변수에서 모든 타임스텝의 은닉 상태를 출력할지 결정, 디폴트는 False"
      ],
      "metadata": {
        "id": "b5bQCSIf_E8G"
      }
    },
    {
      "cell_type": "markdown",
      "source": [
        "#### GRU\n",
        "      GRU 셀을 사용한 순환층 클래스\n",
        "      첫 번째 매개변수에 뉴런의 개수를 지정\n",
        "      dropout 매개변수에서 입력에 대한 드롭아웃 비율을 지정\n",
        "      return_sequences 매개변수에서 모든 타임스텝의 은닉 상태를 출력할지 결정, 디폴트는 False\n",
        "    "
      ],
      "metadata": {
        "id": "g4HAEC58_Qe-"
      }
    },
    {
      "cell_type": "markdown",
      "source": [
        "## 팁"
      ],
      "metadata": {
        "id": "smzr82cO_dqF"
      }
    },
    {
      "cell_type": "markdown",
      "source": [
        "1. LSTM, GRU를 두 개 쌓을 때에는 반드시 마지막 층을 제외한 모든 층에서 return_sequences 매개변수를 True로 지정해야함\n",
        "\n",
        "2. 드롭아웃을 적용하고 층을 쌓는 것이 정확도 향상에 좋다!"
      ],
      "metadata": {
        "id": "gZHKV3ny_fsV"
      }
    }
  ]
}