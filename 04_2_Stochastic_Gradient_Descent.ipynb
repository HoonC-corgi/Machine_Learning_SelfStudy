{
  "nbformat": 4,
  "nbformat_minor": 0,
  "metadata": {
    "colab": {
      "provenance": [],
      "authorship_tag": "ABX9TyMyENWEvw7YOEEkcF87qBI6",
      "include_colab_link": true
    },
    "kernelspec": {
      "name": "python3",
      "display_name": "Python 3"
    },
    "language_info": {
      "name": "python"
    }
  },
  "cells": [
    {
      "cell_type": "markdown",
      "metadata": {
        "id": "view-in-github",
        "colab_type": "text"
      },
      "source": [
        "<a href=\"https://colab.research.google.com/github/HoonC-corgi/Machine_Learning_SelfStudy/blob/main/04_2_Stochastic_Gradient_Descent.ipynb\" target=\"_parent\"><img src=\"https://colab.research.google.com/assets/colab-badge.svg\" alt=\"Open In Colab\"/></a>"
      ]
    },
    {
      "cell_type": "code",
      "execution_count": 1,
      "metadata": {
        "id": "kgGmR19stvYn"
      },
      "outputs": [],
      "source": [
        "import pandas as pd\n",
        "fish = pd.read_csv('http://bit.ly/fish_csv_data')"
      ]
    },
    {
      "cell_type": "code",
      "source": [
        "fish_input = fish[['Weight', 'Length', 'Diagonal', 'Height', 'Width']].to_numpy()\n",
        "fish_target = fish['Species'].to_numpy()"
      ],
      "metadata": {
        "id": "VncL5xdVx0lQ"
      },
      "execution_count": 3,
      "outputs": []
    },
    {
      "cell_type": "code",
      "source": [
        "from sklearn.model_selection import train_test_split\n",
        "train_input, test_input, train_target, test_target = train_test_split(fish_input, fish_target, random_state=42)"
      ],
      "metadata": {
        "id": "ljNIMdd8yHPI"
      },
      "execution_count": 4,
      "outputs": []
    },
    {
      "cell_type": "code",
      "source": [
        "from sklearn.preprocessing import StandardScaler\n",
        "ss = StandardScaler()\n",
        "ss.fit(train_input)\n",
        "train_scaled = ss.transform(train_input)\n",
        "test_scaled = ss.transform(test_input)"
      ],
      "metadata": {
        "id": "QjNumYLEyfd3"
      },
      "execution_count": 5,
      "outputs": []
    },
    {
      "cell_type": "code",
      "source": [
        "# 확률적 경사 하강법을 제공하는 사이킷런의 대표적 분류 클래스 \n",
        "from sklearn.linear_model import SGDClassifier"
      ],
      "metadata": {
        "id": "zxvkHRAYyuWL"
      },
      "execution_count": 6,
      "outputs": []
    },
    {
      "cell_type": "code",
      "source": [
        "# SGDClassifier의 객체를 만들 때는 2개의 배개변수를 사용\n",
        "# loss는 손실함수의 종류, max_iter는 수행할 에포크 횟수를 지정\n",
        "sc = SGDClassifier(loss='log', max_iter=10, random_state=42)\n",
        "sc.fit(train_scaled, train_target)\n",
        "print(sc.score(train_scaled, train_target))\n",
        "print(sc.score(test_scaled, test_target))\n",
        "# 과소적합, 훈련 횟수를 증가\n",
        "# 'ConvergenceWarning' 경고문은 지정 반복 횟수, 즉 에포크 횟수가 부족함을 의미"
      ],
      "metadata": {
        "colab": {
          "base_uri": "https://localhost:8080/"
        },
        "id": "w9FadymQy1rU",
        "outputId": "6608fe7a-fd7d-4f97-9f1a-ffba33a00ffe"
      },
      "execution_count": 8,
      "outputs": [
        {
          "output_type": "stream",
          "name": "stdout",
          "text": [
            "0.773109243697479\n",
            "0.775\n"
          ]
        },
        {
          "output_type": "stream",
          "name": "stderr",
          "text": [
            "/usr/local/lib/python3.8/dist-packages/sklearn/linear_model/_stochastic_gradient.py:696: ConvergenceWarning: Maximum number of iteration reached before convergence. Consider increasing max_iter to improve the fit.\n",
            "  warnings.warn(\n"
          ]
        }
      ]
    },
    {
      "cell_type": "code",
      "source": [
        "# 모델을 이어서 훈련할 때에는 partial_fit() 메소드를 사용함, fit()과 사용법은 같으나 1에포크씩 이어서 훈련 가능\n",
        "sc.partial_fit(train_scaled, train_target)\n",
        "print(sc.score(train_scaled, train_target))\n",
        "print(sc.score(test_scaled, test_target))"
      ],
      "metadata": {
        "colab": {
          "base_uri": "https://localhost:8080/"
        },
        "id": "niZGu8_OzaU8",
        "outputId": "049b1d5c-6081-463b-a19c-2c929aa43784"
      },
      "execution_count": 9,
      "outputs": [
        {
          "output_type": "stream",
          "name": "stdout",
          "text": [
            "0.8151260504201681\n",
            "0.85\n"
          ]
        }
      ]
    },
    {
      "cell_type": "markdown",
      "source": [
        "# 에포크와 과대적합, 과소적합"
      ],
      "metadata": {
        "id": "xdrx1e4K0MDx"
      }
    },
    {
      "cell_type": "code",
      "source": [
        "# partial_fit() 메소드만 사용하기 위해 훈련 세트에 있는 전체 클래스의 레이블을 np.unique() 메소드로 train_target에 있는 7개의 생선목록을 만들어 partial_fit()에 전달함\n",
        "# 에포크마다 훈련 세트와 테스트 세트에 대한 점수를 기록하기 위해 2개의 리스트를 준비\n",
        "import numpy as np\n",
        "sc = SGDClassifier(loss='log', random_state=42)\n",
        "train_score = []\n",
        "test_score = []\n",
        "classes = np.unique(train_target)"
      ],
      "metadata": {
        "id": "p40TDeoU0BSp"
      },
      "execution_count": 10,
      "outputs": []
    },
    {
      "cell_type": "code",
      "source": [
        "# 300번의 에포크 동안 훈련 진행\n",
        "# 매 반복마다 훈련 세트와 테스트 세트의 점수를 train_score, test_score 리스트에 추가\n",
        "for _ in range(0, 300):   # 파이썬에서는 _ 변수를 통해 나중에 사용하지 않고 버리는 값을 넣어둘 수 있다, 0~299까지의 숫자를 담을 임시 저장 용도로 사용\n",
        "  sc.partial_fit(train_scaled, train_target, classes=classes)\n",
        "  train_score.append(sc.score(train_scaled, train_target))\n",
        "  test_score.append(sc.score(test_scaled, test_target))"
      ],
      "metadata": {
        "id": "Zfg8oucY0_nB"
      },
      "execution_count": 12,
      "outputs": []
    },
    {
      "cell_type": "code",
      "source": [
        "import matplotlib.pyplot as plt\n",
        "plt.plot(train_score)\n",
        "plt.plot(test_score)\n",
        "plt.xlabel('epoch')\n",
        "plt.ylabel('accuracy')\n",
        "plt.show()\n",
        "# 에포크 횟수가 100일 때 가장 적절한 것을 확인 가능"
      ],
      "metadata": {
        "colab": {
          "base_uri": "https://localhost:8080/",
          "height": 279
        },
        "id": "6f8BnnjG1mrF",
        "outputId": "e12eb6e4-db60-4747-c4b3-065753c2e297"
      },
      "execution_count": 15,
      "outputs": [
        {
          "output_type": "display_data",
          "data": {
            "text/plain": [
              "<Figure size 432x288 with 1 Axes>"
            ],
            "image/png": "[encoded data removed]"
          },
          "metadata": {
            "needs_background": "light"
          }
        }
      ]
    },
    {
      "cell_type": "code",
      "source": [
        "# SGDClassifier는 일정 에포크 동안 성능이 향상되지 않으면 훈련을 멈춤, tol 매개변수는 이 때 향상될 최솟값을 지정, 즉 tol=None == 무조건 max_iter까지 반복\n",
        "sc = SGDClassifier(loss='log', max_iter=100, tol=None, random_state=42)\n",
        "sc.fit(train_scaled, train_target)\n",
        "print(sc.score(train_scaled, train_target))\n",
        "print(sc.score(test_scaled, test_target))"
      ],
      "metadata": {
        "colab": {
          "base_uri": "https://localhost:8080/"
        },
        "id": "jgjSOI0b2HYy",
        "outputId": "43407749-e134-4f76-dc32-cc030f04f27e"
      },
      "execution_count": 17,
      "outputs": [
        {
          "output_type": "stream",
          "name": "stdout",
          "text": [
            "0.957983193277311\n",
            "0.925\n"
          ]
        }
      ]
    },
    {
      "cell_type": "code",
      "source": [
        "# loss 매개변수의 디폴트는 'hinge'로, 힌지손실은 '서포트 벡터 머신' 머신러닝 알고리즘을 위한 손실 함수\n",
        "# 힌지 손실을 사용해 이를 다시 해보면\n",
        "sc = SGDClassifier(loss='hinge', max_iter=100, tol=None, random_state=42)\n",
        "sc.fit(train_scaled, train_target)\n",
        "print(sc.score(train_scaled, train_target))\n",
        "print(sc.score(test_scaled, test_target))"
      ],
      "metadata": {
        "colab": {
          "base_uri": "https://localhost:8080/"
        },
        "id": "SA2qZT5M2okg",
        "outputId": "4b18fefa-9ff5-41a7-f477-bdaaa14b833d"
      },
      "execution_count": 18,
      "outputs": [
        {
          "output_type": "stream",
          "name": "stdout",
          "text": [
            "0.9495798319327731\n",
            "0.925\n"
          ]
        }
      ]
    },
    {
      "cell_type": "markdown",
      "source": [
        "# 전체 소스 코드"
      ],
      "metadata": {
        "id": "LT3fgu394Ltz"
      }
    },
    {
      "cell_type": "code",
      "source": [],
      "metadata": {
        "id": "kOYpH4Mf4ziX"
      },
      "execution_count": null,
      "outputs": []
    },
    {
      "cell_type": "markdown",
      "metadata": {
        "id": "L5ALSPQSJp-n"
      },
      "source": [
        "# 확률적 경사 하강법"
      ]
    },
    {
      "cell_type": "markdown",
      "metadata": {
        "id": "hnCwTs5KJp-t"
      },
      "source": [
        "<table align=\"left\">\n",
        "  <td>\n",
        "    <a target=\"_blank\" href=\"https://colab.research.google.com/github/rickiepark/hg-mldl/blob/master/4-2.ipynb\"><img src=\"https://www.tensorflow.org/images/colab_logo_32px.png\" />구글 코랩에서 실행하기</a>\n",
        "  </td>\n",
        "</table>"
      ]
    },
    {
      "cell_type": "markdown",
      "metadata": {
        "id": "3x4OwaSIR50l"
      },
      "source": [
        "## SGDClassifier"
      ]
    },
    {
      "cell_type": "code",
      "execution_count": null,
      "metadata": {
        "id": "j3z-zKXoRmWB"
      },
      "outputs": [],
      "source": [
        "import pandas as pd\n",
        "\n",
        "fish = pd.read_csv('https://bit.ly/fish_csv_data')"
      ]
    },
    {
      "cell_type": "code",
      "execution_count": null,
      "metadata": {
        "id": "WAiJVY9nR1fF"
      },
      "outputs": [],
      "source": [
        "fish_input = fish[['Weight','Length','Diagonal','Height','Width']].to_numpy()\n",
        "fish_target = fish['Species'].to_numpy()"
      ]
    },
    {
      "cell_type": "code",
      "execution_count": null,
      "metadata": {
        "id": "AW6LMW_URpto"
      },
      "outputs": [],
      "source": [
        "from sklearn.model_selection import train_test_split\n",
        "\n",
        "train_input, test_input, train_target, test_target = train_test_split(\n",
        "    fish_input, fish_target, random_state=42)"
      ]
    },
    {
      "cell_type": "code",
      "execution_count": null,
      "metadata": {
        "id": "1RTAwK_DRutj"
      },
      "outputs": [],
      "source": [
        "from sklearn.preprocessing import StandardScaler\n",
        "\n",
        "ss = StandardScaler()\n",
        "ss.fit(train_input)\n",
        "train_scaled = ss.transform(train_input)\n",
        "test_scaled = ss.transform(test_input)"
      ]
    },
    {
      "cell_type": "code",
      "execution_count": null,
      "metadata": {
        "id": "FSyujXY7sli6"
      },
      "outputs": [],
      "source": [
        "from sklearn.linear_model import SGDClassifier"
      ]
    },
    {
      "cell_type": "code",
      "execution_count": null,
      "metadata": {
        "colab": {
          "base_uri": "https://localhost:8080/"
        },
        "id": "KofoXhbwR9yu",
        "outputId": "1d6a0eac-9a2d-4008-a7fa-044c2e39907d"
      },
      "outputs": [
        {
          "name": "stdout",
          "output_type": "stream",
          "text": [
            "0.773109243697479\n",
            "0.775\n"
          ]
        },
        {
          "name": "stderr",
          "output_type": "stream",
          "text": [
            "/home/studio-lab-user/.conda/envs/default/lib/python3.9/site-packages/sklearn/linear_model/_stochastic_gradient.py:705: ConvergenceWarning: Maximum number of iteration reached before convergence. Consider increasing max_iter to improve the fit.\n",
            "  warnings.warn(\n"
          ]
        }
      ],
      "source": [
        "# 사이킷런 1.1.0 버전 이하일 경우 'log_loss'를 'log'로 바꾸어 주세요.\n",
        "sc = SGDClassifier(loss='log_loss', max_iter=10, random_state=42)\n",
        "sc.fit(train_scaled, train_target)\n",
        "\n",
        "print(sc.score(train_scaled, train_target))\n",
        "print(sc.score(test_scaled, test_target))"
      ]
    },
    {
      "cell_type": "code",
      "execution_count": null,
      "metadata": {
        "colab": {
          "base_uri": "https://localhost:8080/"
        },
        "id": "duwA4N3eSUk5",
        "outputId": "f26d3a96-dca9-46b0-8201-4e12b15d57aa"
      },
      "outputs": [
        {
          "name": "stdout",
          "output_type": "stream",
          "text": [
            "0.8151260504201681\n",
            "0.85\n"
          ]
        }
      ],
      "source": [
        "sc.partial_fit(train_scaled, train_target)\n",
        "\n",
        "print(sc.score(train_scaled, train_target))\n",
        "print(sc.score(test_scaled, test_target))"
      ]
    },
    {
      "cell_type": "markdown",
      "metadata": {
        "id": "TEtfnUQhzKO2"
      },
      "source": [
        "## 에포크와 과대/과소적합"
      ]
    },
    {
      "cell_type": "code",
      "execution_count": null,
      "metadata": {
        "id": "pt7BHZVZ-dWT"
      },
      "outputs": [],
      "source": [
        "import numpy as np\n",
        "\n",
        "# 사이킷런 1.1 버전에서는 SGDClassifier의 loss 매개변수 중 \n",
        "# 로지스틱 손실을 의미하는 'log'가 'log_loss'로 바뀐다는 경고가 발생합니다.\n",
        "# 사이킷런 1.1 이상을 사용하는 경우 loss='log'를 loss='log_loss'로 변경하세요.\n",
        "sc = SGDClassifier(loss='log', random_state=42)\n",
        "\n",
        "train_score = []\n",
        "test_score = []\n",
        "\n",
        "classes = np.unique(train_target)"
      ]
    },
    {
      "cell_type": "code",
      "execution_count": null,
      "metadata": {
        "id": "-65Gz13tVOP7"
      },
      "outputs": [],
      "source": [
        "for _ in range(0, 300):\n",
        "    sc.partial_fit(train_scaled, train_target, classes=classes)\n",
        "    \n",
        "    train_score.append(sc.score(train_scaled, train_target))\n",
        "    test_score.append(sc.score(test_scaled, test_target))"
      ]
    },
    {
      "cell_type": "code",
      "execution_count": null,
      "metadata": {
        "colab": {
          "base_uri": "https://localhost:8080/",
          "height": 279
        },
        "id": "V19SzZJ5ZjSI",
        "outputId": "de31130f-e860-4143-99ec-014654191160"
      },
      "outputs": [
        {
          "data": {
            "image/png": "[encoded data removed]",
            "text/plain": [
              "<Figure size 432x288 with 1 Axes>"
            ]
          },
          "metadata": {
            "needs_background": "light"
          },
          "output_type": "display_data"
        }
      ],
      "source": [
        "import matplotlib.pyplot as plt\n",
        "\n",
        "plt.plot(train_score)\n",
        "plt.plot(test_score)\n",
        "plt.xlabel('epoch')\n",
        "plt.ylabel('accuracy')\n",
        "plt.show()"
      ]
    },
    {
      "cell_type": "code",
      "execution_count": null,
      "metadata": {
        "colab": {
          "base_uri": "https://localhost:8080/"
        },
        "id": "pdp2Ykst1K_I",
        "outputId": "6214bd83-00c8-4a16-9931-ad7746ddff9f"
      },
      "outputs": [
        {
          "name": "stdout",
          "output_type": "stream",
          "text": [
            "0.957983193277311\n",
            "0.925\n"
          ]
        }
      ],
      "source": [
        "# 사이킷런 1.1 버전에서는 SGDClassifier의 loss 매개변수 중 \n",
        "# 로지스틱 손실을 의미하는 'log'가 'log_loss'로 바뀐다는 경고가 발생합니다.\n",
        "# 사이킷런 1.1 이상을 사용하는 경우 loss='log'를 loss='log_loss'로 변경하세요.\n",
        "sc = SGDClassifier(loss='log', max_iter=100, tol=None, random_state=42)\n",
        "sc.fit(train_scaled, train_target)\n",
        "\n",
        "print(sc.score(train_scaled, train_target))\n",
        "print(sc.score(test_scaled, test_target))"
      ]
    },
    {
      "cell_type": "code",
      "execution_count": null,
      "metadata": {
        "colab": {
          "base_uri": "https://localhost:8080/"
        },
        "id": "OL7-y1kgIP4S",
        "outputId": "554597de-bec8-45d1-92e6-a0f5a7ebe519"
      },
      "outputs": [
        {
          "name": "stdout",
          "output_type": "stream",
          "text": [
            "0.9495798319327731\n",
            "0.925\n"
          ]
        }
      ],
      "source": [
        "sc = SGDClassifier(loss='hinge', max_iter=100, tol=None, random_state=42)\n",
        "sc.fit(train_scaled, train_target)\n",
        "\n",
        "print(sc.score(train_scaled, train_target))\n",
        "print(sc.score(test_scaled, test_target))"
      ]
    },
    {
      "cell_type": "markdown",
      "source": [
        "# 총 정리"
      ],
      "metadata": {
        "id": "WdvP8x_Z46kc"
      }
    },
    {
      "cell_type": "markdown",
      "source": [
        "# 키워드\n",
        "  ## 확률적 경사 하강법\n",
        "        훈련 세트에서 샘플을 하나씩 꺼내 손실 함수의 경사를 따라 최적의 모델을 찾는 알고리즘\n",
        "        하나를 꺼내오는 확률적 경사 하강법, 여러 개인 미니배치 경사 하강법, 전체인 배치 경사 하강법이 있음\n",
        "\n",
        "  ## 손실함수\n",
        "        확률적 경사 하강법이 최적화할 대상으로, 이진 분류에는 로지스틱 회귀(이진 크로스엔트로피) 손실 함수, 다중 분류에는 크로스엔트로피 손실 함수를 사용함. 회귀 문제에는 평균 제곱 오차 손실함수를 사용함.\n",
        "        이진 분류에서의 손실은\n",
        "        양성 클래스의 경우 예측*타깃(1)*-1\n",
        "        음성 클래스의 경우 (1-예측)*타깃(1)*-1\n",
        "        이며, 이는 작을 수록 좋다.\n",
        "\n",
        "  ## 에포크\n",
        "        확률적 경사 하강법에서 전체 샘플을 모두 사용하는 한 번의 반복을 의미, 일반적을 ㅗ경사 하강법 알고리즘은 수십에서 수백 번의 에포크를 반복함\n",
        "\n",
        "\n",
        "# 핵심 패키지와 함수\n",
        "  ## 사이킷 런\n",
        "  ### SGDClassifier\n",
        "        확률적 경사 하강법을 사용한 분류 모델을 만듦\n",
        "        loss 매개변수는 손실 함수의 종류를 지정하며 디폴트는 '서포트 벡터 머신'을 위한 'hinge'손실 함수임\n",
        "        로지스틱 회귀에서는 확률의 범위인 0~1 사이에서 log가 음수를 취하므로 적합, 따라서  'log'로 지정\n",
        "\n",
        "        penalty 매개변수를 통해 규제의 종류를 지정할 수 있음\n",
        "        디폴트는 L2 규제를 위한 'l2'이며, alpha 매개변수를 통해 강도를 지정할 수 있음, alpha의 디폴트는 0.0001\n",
        "\n",
        "        max_iter 매개변수는 에포크 횟수를 지정, 디폴트는 1000\n",
        "\n",
        "        확률적 경사 하강법은 일정 에포크 동안 성능이 향상되지 않으면 훈련을 멈춤\n",
        "        tol 매개변수는 반복을 멈출 조건을 설정. 디폴트는 0.001\n",
        "        n_iter_no_change 매개변수에서 지정한 에포크 동안 손실이 tol 만큼 줄어들지 않으면 알고리즘이 중단, 디폴트는 5\n",
        "        즉 디폴트 값 기준으로 5번의 에포크가 동작할 동안 손실이 0.001 만큼 줄어들지 않으면 훈련을 멈춤\n",
        "\n",
        "\n",
        "  ### SGDRegressor\n",
        "        확률적 경사 하강법을 사용한 회귀 모델을 만듦\n",
        "        loss 매개변수의 디폴트는 'squared_loss'이며 이외의 기능은 분류 모델과 동일\n",
        "\n",
        "\n",
        "# 팁\n",
        "  1. 판다스 데이터 프레임을 가져와 만듦\n",
        "  2. Species 열을 타깃으로, 나머지 열을 입력 데이터로 사용\n",
        "  3. train_test_split() 메소드로 훈련/테스트 세트 구분\n",
        "  4. 표준화 전처리 *반드시 훈련 세트에서 학습한 통계 값으로 테스트 세트도 변환해야 함"
      ],
      "metadata": {
        "id": "CpEkMm9E5Cb_"
      }
    },
    {
      "cell_type": "code",
      "source": [],
      "metadata": {
        "id": "3dht8Uvo5Ka2"
      },
      "execution_count": null,
      "outputs": []
    }
  ]
}