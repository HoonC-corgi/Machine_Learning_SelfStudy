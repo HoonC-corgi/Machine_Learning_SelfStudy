{
  "nbformat": 4,
  "nbformat_minor": 0,
  "metadata": {
    "colab": {
      "provenance": [],
      "authorship_tag": "ABX9TyNBfUjhkFQPlNqVPwtS+6AK",
      "include_colab_link": true
    },
    "kernelspec": {
      "name": "python3",
      "display_name": "Python 3"
    },
    "language_info": {
      "name": "python"
    },
    "accelerator": "GPU",
    "gpuClass": "standard"
  },
  "cells": [
    {
      "cell_type": "markdown",
      "metadata": {
        "id": "view-in-github",
        "colab_type": "text"
      },
      "source": [
        "<a href=\"https://colab.research.google.com/github/HoonC-corgi/Machine_Learning_SelfStudy/blob/main/07_3_Neuron_Network_Fitting.ipynb\" target=\"_parent\"><img src=\"https://colab.research.google.com/assets/colab-badge.svg\" alt=\"Open In Colab\"/></a>"
      ]
    },
    {
      "cell_type": "markdown",
      "source": [
        "# 손실 곡선"
      ],
      "metadata": {
        "id": "5EoCMqJF7NK1"
      }
    },
    {
      "cell_type": "code",
      "execution_count": 2,
      "metadata": {
        "id": "qNePMo7E6dfi",
        "colab": {
          "base_uri": "https://localhost:8080/"
        },
        "outputId": "bd818449-9273-4cbd-db31-7841d2ca1d7a"
      },
      "outputs": [
        {
          "output_type": "stream",
          "name": "stdout",
          "text": [
            "Downloading data from https://storage.googleapis.com/tensorflow/tf-keras-datasets/train-labels-idx1-ubyte.gz\n",
            "29515/29515 [==============================] - 0s 0us/step\n",
            "Downloading data from https://storage.googleapis.com/tensorflow/tf-keras-datasets/train-images-idx3-ubyte.gz\n",
            "26421880/26421880 [==============================] - 0s 0us/step\n",
            "Downloading data from https://storage.googleapis.com/tensorflow/tf-keras-datasets/t10k-labels-idx1-ubyte.gz\n",
            "5148/5148 [==============================] - 0s 0us/step\n",
            "Downloading data from https://storage.googleapis.com/tensorflow/tf-keras-datasets/t10k-images-idx3-ubyte.gz\n",
            "4422102/4422102 [==============================] - 0s 0us/step\n"
          ]
        }
      ],
      "source": [
        "from tensorflow import keras\n",
        "from sklearn.model_selection import train_test_split\n",
        "(train_input, train_target), (test_input, test_target) =\\\n",
        "    keras.datasets.fashion_mnist.load_data()\n",
        "train_scaled = train_input / 255.0\n",
        "train_scaled, val_scaled, train_target, val_target = train_test_split(\n",
        "    train_scaled, train_target, test_size=0.2, random_state=42\n",
        ")"
      ]
    },
    {
      "cell_type": "code",
      "source": [
        "def model_fn(a_layer=None):\n",
        "    model = keras.Sequential()\n",
        "    model.add(keras.layers.Flatten(input_shape=(28, 28)))\n",
        "    model.add(keras.layers.Dense(100, activation='relu'))\n",
        "    if a_layer:\n",
        "        model.add(a_layer)\n",
        "    model.add(keras.layers.Dense(10, activation='softmax'))\n",
        "    return model"
      ],
      "metadata": {
        "id": "bpBdKbv07uJ9"
      },
      "execution_count": 3,
      "outputs": []
    },
    {
      "cell_type": "code",
      "source": [
        "model = model_fn()\n",
        "model.summary()"
      ],
      "metadata": {
        "colab": {
          "base_uri": "https://localhost:8080/"
        },
        "id": "j9Y_dDuFRA6D",
        "outputId": "bd631fb2-7dc1-4197-db08-c29323be10fd"
      },
      "execution_count": 4,
      "outputs": [
        {
          "output_type": "stream",
          "name": "stdout",
          "text": [
            "Model: \"sequential\"\n",
            "_________________________________________________________________\n",
            " Layer (type)                Output Shape              Param #   \n",
            "=================================================================\n",
            " flatten (Flatten)           (None, 784)               0         \n",
            "                                                                 \n",
            " dense (Dense)               (None, 100)               78500     \n",
            "                                                                 \n",
            " dense_1 (Dense)             (None, 10)                1010      \n",
            "                                                                 \n",
            "=================================================================\n",
            "Total params: 79,510\n",
            "Trainable params: 79,510\n",
            "Non-trainable params: 0\n",
            "_________________________________________________________________\n"
          ]
        }
      ]
    },
    {
      "cell_type": "code",
      "source": [
        "# fit() 메소드는 내부적으로 history 객체를 반환함, fit() 메소드의 결과를 history 변수에 담으면,\n",
        "model.compile(loss='sparse_categorical_crossentropy', metrics='accuracy')\n",
        "history = model.fit(train_scaled, train_target, epochs=5, verbose=0)"
      ],
      "metadata": {
        "id": "1K1MpXUyRtbD"
      },
      "execution_count": 5,
      "outputs": []
    },
    {
      "cell_type": "code",
      "source": [
        "# 훈련 측정값이 담겨 있는 history 딕셔너리의 값들을 확인 해보면,\n",
        "print(history.history.keys())\n",
        "# 손실과 정확도가 저자오디어 있음"
      ],
      "metadata": {
        "colab": {
          "base_uri": "https://localhost:8080/"
        },
        "id": "augnBCLgSJM9",
        "outputId": "2764f2d0-9959-442d-844c-316b1b6fdcca"
      },
      "execution_count": 6,
      "outputs": [
        {
          "output_type": "stream",
          "name": "stdout",
          "text": [
            "dict_keys(['loss', 'accuracy'])\n"
          ]
        }
      ]
    },
    {
      "cell_type": "code",
      "source": [
        "# history 속성에 포함된 손실과 정확도는 에포크마다 계산된 값이 순서대로 나열된 리스트\n",
        "# 이를 그래프로 그리면,\n",
        "import matplotlib.pyplot as plt\n",
        "plt.plot(history.history['loss'])\n",
        "plt.xlabel('epoch')\n",
        "plt.ylabel('loss')\n",
        "plt.show()"
      ],
      "metadata": {
        "colab": {
          "base_uri": "https://localhost:8080/",
          "height": 279
        },
        "id": "6xzOk9E_StIe",
        "outputId": "07bd9eea-677e-4ed3-9190-2735ec998cfb"
      },
      "execution_count": 7,
      "outputs": [
        {
          "output_type": "display_data",
          "data": {
            "text/plain": [
              "<Figure size 432x288 with 1 Axes>"
            ],
            "image/png": "[encoded data removed]"
          },
          "metadata": {
            "needs_background": "light"
          }
        }
      ]
    },
    {
      "cell_type": "code",
      "source": [
        "plt.plot(history.history['accuracy'])\n",
        "\n",
        "plt.xlabel('epoch')\n",
        "plt.ylabel('accuracy')\n",
        "plt.show()"
      ],
      "metadata": {
        "colab": {
          "base_uri": "https://localhost:8080/",
          "height": 280
        },
        "id": "3Ktw8M0VTLnb",
        "outputId": "d06c5d29-abe9-4c8a-cd11-f57d9889a532"
      },
      "execution_count": 8,
      "outputs": [
        {
          "output_type": "display_data",
          "data": {
            "text/plain": [
              "<Figure size 432x288 with 1 Axes>"
            ],
            "image/png": "[encoded data removed]"
          },
          "metadata": {
            "needs_background": "light"
          }
        }
      ]
    },
    {
      "cell_type": "code",
      "source": [
        "# 에포크를 보다 늘려보면,\n",
        "model = model_fn()\n",
        "model.compile(loss='sparse_categorical_crossentropy', metrics='accuracy')\n",
        "history = model.fit(train_scaled, train_target, epochs=20, verbose=0)\n",
        "plt.plot(history.history['loss'])\n",
        "plt.xlabel('epoch')\n",
        "plt.ylabel('loss')\n",
        "plt.show()"
      ],
      "metadata": {
        "colab": {
          "base_uri": "https://localhost:8080/",
          "height": 279
        },
        "id": "5ThDqH1CTlEm",
        "outputId": "ebec407f-1212-4324-c321-686f3c1f125f"
      },
      "execution_count": 9,
      "outputs": [
        {
          "output_type": "display_data",
          "data": {
            "text/plain": [
              "<Figure size 432x288 with 1 Axes>"
            ],
            "image/png": "[encoded data removed]"
          },
          "metadata": {
            "needs_background": "light"
          }
        }
      ]
    },
    {
      "cell_type": "code",
      "source": [
        "# 에포크마다 검증 손실을 계산하기 위해 케라스 모델의 fit() 메소드에 검증 데이터를 전달\n",
        "# validation_data 매개변수에 검증에 사용할 입력과 타깃값을 튜플로 만들어 전달\n",
        "model = model_fn()\n",
        "model.compile(loss='sparse_categorical_crossentropy', metrics='accuracy')\n",
        "history = model.fit(train_scaled, train_target, epochs=20, verbose=0,\n",
        "                    validation_data = (val_scaled, val_target))"
      ],
      "metadata": {
        "id": "aK1kj2prUCcZ"
      },
      "execution_count": 13,
      "outputs": []
    },
    {
      "cell_type": "code",
      "source": [
        "# 반환된 history.history 딕셔너리에 들어 있는 키를 확인 하면\n",
        "print(history.history.keys())"
      ],
      "metadata": {
        "colab": {
          "base_uri": "https://localhost:8080/"
        },
        "id": "KzwstcRhU8Ks",
        "outputId": "c7353ac2-7693-4541-806f-f00ce312330c"
      },
      "execution_count": 14,
      "outputs": [
        {
          "output_type": "stream",
          "name": "stdout",
          "text": [
            "dict_keys(['loss', 'accuracy', 'val_loss', 'val_accuracy'])\n"
          ]
        }
      ]
    },
    {
      "cell_type": "code",
      "source": [
        "plt.plot(history.history['loss'])\n",
        "plt.plot(history.history['val_loss'])\n",
        "plt.xlabel('epoch')\n",
        "plt.ylabel('loss')\n",
        "plt.legend(['train', 'val'])\n",
        "plt.show()\n",
        "# 2.5 에포크 이후로 검증 손실값이 다시 튀는 것을 볼 수 있음\n",
        "# 이를 뒤로 미룰 수록 정확도와 손실을 줄일 수 있음"
      ],
      "metadata": {
        "colab": {
          "base_uri": "https://localhost:8080/",
          "height": 279
        },
        "id": "Iphn_jboVh6O",
        "outputId": "7d52b477-79a0-4505-9a29-41e8f038fc30"
      },
      "execution_count": 17,
      "outputs": [
        {
          "output_type": "display_data",
          "data": {
            "text/plain": [
              "<Figure size 432x288 with 1 Axes>"
            ],
            "image/png": "[encoded data removed]"
          },
          "metadata": {
            "needs_background": "light"
          }
        }
      ]
    },
    {
      "cell_type": "code",
      "source": [
        "# 옵티마이저 하이퍼파라미터를 통해 과대적합을 완화해보면,\n",
        "# 적응적 학습률을 사용하는 Adam 옵티마이저를 적용\n",
        "model = model_fn()\n",
        "model.compile(optimizer='adam', loss='sparse_categorical_crossentropy', metrics='accuracy')\n",
        "history = model.fit(train_scaled, train_target, epochs=20, verbose=0, validation_data = (val_scaled, val_target))\n",
        "plt.plot(history.history['loss'])\n",
        "plt.plot(history.history['val_loss'])\n",
        "plt.xlabel('epoch')\n",
        "plt.ylabel('loss')\n",
        "plt.legend(['train', 'val'])\n",
        "plt.show()"
      ],
      "metadata": {
        "colab": {
          "base_uri": "https://localhost:8080/",
          "height": 279
        },
        "id": "TEJkOprKWCKn",
        "outputId": "af5926e3-985e-40db-bebb-53447662191b"
      },
      "execution_count": 18,
      "outputs": [
        {
          "output_type": "display_data",
          "data": {
            "text/plain": [
              "<Figure size 432x288 with 1 Axes>"
            ],
            "image/png": "[encoded data removed]"
          },
          "metadata": {
            "needs_background": "light"
          }
        }
      ]
    },
    {
      "cell_type": "markdown",
      "source": [
        "# 드롭아웃 dropout\n",
        "      훈련 과정에서 층에 있는 일부 뉴런을 랜덤하게 꺼서(출력을 0으로) 과대적합을 막음\n",
        "      이전 층의 일부 뉴런이 랜덤하게 꺼지면 특정 뉴런에 대한 과대 의존을 줄일 수 있음\n",
        "      이론적으로 2개의 신경망을 앙상블하는 것과 같은 효과를 볼 수 있음"
      ],
      "metadata": {
        "id": "i2mo76wUYEZg"
      }
    },
    {
      "cell_type": "code",
      "source": [
        "model = model_fn(keras.layers.Dropout(0.3))\n",
        "model.summary()\n",
        "# 드롭아웃은 입출력 겨로가에 영향을 미치지 않으나 평가, 예측 수행 시에는 적용하지 말아야 함(자동으로 됨)"
      ],
      "metadata": {
        "colab": {
          "base_uri": "https://localhost:8080/"
        },
        "id": "VD6R-lROX10b",
        "outputId": "ed8db033-6dcc-47cf-f3b8-01be28115744"
      },
      "execution_count": 20,
      "outputs": [
        {
          "output_type": "stream",
          "name": "stdout",
          "text": [
            "Model: \"sequential_6\"\n",
            "_________________________________________________________________\n",
            " Layer (type)                Output Shape              Param #   \n",
            "=================================================================\n",
            " flatten_6 (Flatten)         (None, 784)               0         \n",
            "                                                                 \n",
            " dense_12 (Dense)            (None, 100)               78500     \n",
            "                                                                 \n",
            " dropout_1 (Dropout)         (None, 100)               0         \n",
            "                                                                 \n",
            " dense_13 (Dense)            (None, 10)                1010      \n",
            "                                                                 \n",
            "=================================================================\n",
            "Total params: 79,510\n",
            "Trainable params: 79,510\n",
            "Non-trainable params: 0\n",
            "_________________________________________________________________\n"
          ]
        }
      ]
    },
    {
      "cell_type": "code",
      "source": [
        "model.compile(optimizer='adam', loss='sparse_categorical_crossentropy', metrics='accuracy')\n",
        "history = model.fit(train_scaled, train_target, epochs=20, verbose=0, validation_data=(val_scaled, val_target))\n",
        "plt.plot(history.history['loss'])\n",
        "plt.plot(history.history['val_loss'])\n",
        "plt.xlabel('epoch')\n",
        "plt.ylabel('loss')\n",
        "plt.legend(['train', 'val'])\n",
        "plt.show()\n",
        "# 에포크가 늘어날 수록 결국 훈련 세트에 맞춰 학습하게 되므로 과대적합 되어감"
      ],
      "metadata": {
        "colab": {
          "base_uri": "https://localhost:8080/",
          "height": 279
        },
        "id": "6Nd_3uq6Y7iJ",
        "outputId": "1de21550-f65d-4db3-d123-8b094b1e7be6"
      },
      "execution_count": 21,
      "outputs": [
        {
          "output_type": "display_data",
          "data": {
            "text/plain": [
              "<Figure size 432x288 with 1 Axes>"
            ],
            "image/png": "[encoded data removed]"
          },
          "metadata": {
            "needs_background": "light"
          }
        }
      ]
    },
    {
      "cell_type": "code",
      "source": [
        "# 따라서 에포크 횟수를 10으로 적절히 줄이고, 모델을 저장하면,\n",
        "model = model_fn(keras.layers.Dropout(0.3))   # dropout 적용\n",
        "model.compile(optimizer='adam', loss='sparse_categorical_crossentropy', metrics='accuracy')\n",
        "history = model.fit(train_scaled, train_target, epochs=10, verbose=0, validation_data=(val_scaled, val_target))"
      ],
      "metadata": {
        "id": "VjAGmOqhZsnn"
      },
      "execution_count": 23,
      "outputs": []
    },
    {
      "cell_type": "code",
      "source": [
        "# 케라스 모델은 훈련된 모델의 파라미터를 저장하는 save_weights() 메소드를 제공함\n",
        "# 기본적으로 텐서플로의 체크포인트 포맷으로 저장하나, 파일의 확장자가 'h.5'일 경우 HDF5 포맷으로 저장\n",
        "model.save_weights('model-weights.h5')"
      ],
      "metadata": {
        "id": "lfhDqFA6aXc2"
      },
      "execution_count": 24,
      "outputs": []
    },
    {
      "cell_type": "code",
      "source": [
        "# 모델 구조와 모델 파라미터를 함께 저장하는 save() 메소드도 제공\n",
        "# 기본적으로 SavedModel 포맷으로 저장, 파일의 확장자가 'h.5'일 경우 HDF5 포맷으로 저장\n",
        "model.save('model-whole.h5')"
      ],
      "metadata": {
        "id": "dT9htXAkauq0"
      },
      "execution_count": 25,
      "outputs": []
    },
    {
      "cell_type": "code",
      "source": [
        "!ls -al *.h5"
      ],
      "metadata": {
        "colab": {
          "base_uri": "https://localhost:8080/"
        },
        "id": "N0bk-OjrbAkb",
        "outputId": "4de6dcdf-4392-4ac6-c85c-aaba7b6d0fe2"
      },
      "execution_count": 26,
      "outputs": [
        {
          "output_type": "stream",
          "name": "stdout",
          "text": [
            "-rw-r--r-- 1 root root 333448 Feb 18 07:26 model-weights.h5\n",
            "-rw-r--r-- 1 root root 981360 Feb 18 07:27 model-whole.h5\n"
          ]
        }
      ]
    },
    {
      "cell_type": "code",
      "source": [
        "# 훈련하지 않은 새로운 모델을 만들어 model-weights.h5 파일에서 훈련된 모델 파라미터를 읽어서 사용할 수 있다\n",
        "model = model_fn(keras.layers.Dropout(0.3))\n",
        "model.load_weights('model-weights.h5')\n",
        "# load_weights() 메소드를 통해 새로운 모델에 기존에 저장했던 모델 파라미터를 적재한 것"
      ],
      "metadata": {
        "id": "jNquDDUIbDTH"
      },
      "execution_count": 29,
      "outputs": []
    },
    {
      "cell_type": "code",
      "source": [
        "# 모델의 검증 정확도를 검사해보면,\n",
        "import numpy as np\n",
        "val_labels = np.argmax(model.predict(val_scaled), axis=-1)\n",
        "print(np.mean(val_labels == val_target))\n",
        "\n",
        "# argmax() 함수를 통해 predict() 결과에서 가장 큰 값을 고름"
      ],
      "metadata": {
        "colab": {
          "base_uri": "https://localhost:8080/"
        },
        "id": "xh5T4nGJbcAE",
        "outputId": "ae6ce9d3-9148-4ef2-ff3f-106bbe4d0461"
      },
      "execution_count": 31,
      "outputs": [
        {
          "output_type": "stream",
          "name": "stdout",
          "text": [
            "375/375 [==============================] - 1s 1ms/step\n",
            "0.8820833333333333\n"
          ]
        }
      ]
    },
    {
      "cell_type": "code",
      "source": [
        "# 모델 전체를 파일에서 읽은 후 검증 세트의 정확도를 출력해보면,\n",
        "model = keras.models.load_model('model-whole.h5')\n",
        "model.evaluate(val_scaled, val_target)\n",
        "\n",
        "# model-weights의 경우 파라미터를 저장, model-whole는 모델 전체를 저장했기에 후자의 경우 evaluate()를 통해 예측이 가능하지만, 전자는 compile() 후 사용하거나 predict()를 사용해야함"
      ],
      "metadata": {
        "colab": {
          "base_uri": "https://localhost:8080/"
        },
        "id": "scAPaUiXcCpK",
        "outputId": "92700420-a3bb-4dac-9aa2-aac25d4a207b"
      },
      "execution_count": 35,
      "outputs": [
        {
          "output_type": "stream",
          "name": "stdout",
          "text": [
            "375/375 [==============================] - 1s 2ms/step - loss: 0.3274 - accuracy: 0.8821\n"
          ]
        },
        {
          "output_type": "execute_result",
          "data": {
            "text/plain": [
              "[0.3273617923259735, 0.8820833563804626]"
            ]
          },
          "metadata": {},
          "execution_count": 35
        }
      ]
    },
    {
      "cell_type": "markdown",
      "source": [
        "# 콜백 Callback\n",
        "      훈련 과정 중간에 어떤 작업을 수행할 수 있게 하는 객체로 keras.callbacks 패키지 아래에 있는 클래스들"
      ],
      "metadata": {
        "id": "3xUVdY-WdAlG"
      }
    },
    {
      "cell_type": "code",
      "source": [
        "# fit() 메소드의 callbacks 매개변수에 리스트로 전달하여 사용\n",
        "# ModelCheckpoint 콜백은 기본적으로 에포크마다 모델을 저장함\n",
        "# save_best_only=True 매개변수를 지정하여 가장 낮은 검증 점수를 만드는 모델을 저장 >> 최적\n",
        "model = model_fn(keras.layers.Dropout(0.3))\n",
        "model.compile(optimizer='adam', loss='sparse_categorical_crossentropy', metrics='accuracy')\n",
        "checkpoint_cb = keras.callbacks.ModelCheckpoint('best-model.h5', save_best_only=True)   # 저장될 파일명\n",
        "model.fit(train_scaled, train_target, epochs=20, verbose=0, validation_data=(val_scaled, val_target), callbacks=[checkpoint_cb])"
      ],
      "metadata": {
        "colab": {
          "base_uri": "https://localhost:8080/"
        },
        "id": "J5fJ9-qacxBM",
        "outputId": "dd140b7d-2cd7-4a1c-f00a-fae5d58f5f51"
      },
      "execution_count": 37,
      "outputs": [
        {
          "output_type": "execute_result",
          "data": {
            "text/plain": [
              "<keras.callbacks.History at 0x7fd6c65d13d0>"
            ]
          },
          "metadata": {},
          "execution_count": 37
        }
      ]
    },
    {
      "cell_type": "code",
      "source": [
        "model = keras.models.load_model('best-model.h5')\n",
        "model.evaluate(val_scaled, val_target)"
      ],
      "metadata": {
        "colab": {
          "base_uri": "https://localhost:8080/"
        },
        "id": "BrrIESyBch-Z",
        "outputId": "7aab247f-5af0-42c9-8765-ebbbf6de684b"
      },
      "execution_count": 39,
      "outputs": [
        {
          "output_type": "stream",
          "name": "stdout",
          "text": [
            "375/375 [==============================] - 1s 2ms/step - loss: 0.3185 - accuracy: 0.8861\n"
          ]
        },
        {
          "output_type": "execute_result",
          "data": {
            "text/plain": [
              "[0.3184749484062195, 0.8860833048820496]"
            ]
          },
          "metadata": {},
          "execution_count": 39
        }
      ]
    },
    {
      "cell_type": "code",
      "source": [
        "# 과대적합이 되기 전에 훈련을 중지하면 자원과 시간을 아낄 수 있음, 이를 '조기 종료'라 함\n",
        "# keras에서는 조기 종료를 위한 EarlyStopping 콜백을 제공\n",
        "# patience 매개변수는 검증 점수가 향상되지 않더라도 참을 에포크 횟수를 지정\n",
        "# restore_best_weights 매개변수를 True로 지정하면 가장 낮은 검증 손실을 낸 모델 파라미터로 되돌림\n",
        "# EarlyStopping 콜백을 ModelCheckpoint 콜백과 함께 사용하면 효율이 좋음\n",
        "model = model_fn(keras.layers.Dropout(0.3))\n",
        "model.compile(optimizer='adam', loss='sparse_categorical_crossentropy', metrics='accuracy')\n",
        "checkpoint_cb = keras.callbacks.ModelCheckpoint('best-model.h5', save_best_only=True)\n",
        "early_stopping_cb = keras.callbacks.EarlyStopping(patience=2, restore_best_weights=True)\n",
        "history = model.fit(train_scaled, train_target, epochs=20, verbose=0, validation_data=(val_scaled, val_target), callbacks=[checkpoint_cb, early_stopping_cb])"
      ],
      "metadata": {
        "id": "PESBFwK2eQ_r"
      },
      "execution_count": 41,
      "outputs": []
    },
    {
      "cell_type": "code",
      "source": [
        "print(early_stopping_cb.stopped_epoch)"
      ],
      "metadata": {
        "colab": {
          "base_uri": "https://localhost:8080/"
        },
        "id": "OHFmXBm9f8AK",
        "outputId": "9bfcee5a-7e6c-4ae3-f740-2fc0d26ef4c7"
      },
      "execution_count": 44,
      "outputs": [
        {
          "output_type": "stream",
          "name": "stdout",
          "text": [
            "11\n"
          ]
        }
      ]
    },
    {
      "cell_type": "code",
      "source": [
        "plt.plot(history.history['loss'])\n",
        "plt.plot(history.history['val_loss'])\n",
        "plt.xlabel('epoch')\n",
        "plt.ylabel('loss')\n",
        "plt.legend(['train', 'val'])\n",
        "plt.show()"
      ],
      "metadata": {
        "colab": {
          "base_uri": "https://localhost:8080/",
          "height": 283
        },
        "id": "pmu5VvmNgJ1X",
        "outputId": "8123a509-b888-4b49-b6f1-04298d01c6e8"
      },
      "execution_count": 46,
      "outputs": [
        {
          "output_type": "display_data",
          "data": {
            "text/plain": [
              "<Figure size 432x288 with 1 Axes>"
            ],
            "image/png": "[encoded data removed]"
          },
          "metadata": {
            "needs_background": "light"
          }
        }
      ]
    },
    {
      "cell_type": "code",
      "source": [
        "# 조기 종료 기법을 적용하면 에포크 횟수를 훈련 과정에서 크게 잡아도 됨\n",
        "# 조기 종료로 얻은 모델의 검증 세트에 대한 성능을 확인하면,\n",
        "model.evaluate(val_scaled, val_target)"
      ],
      "metadata": {
        "colab": {
          "base_uri": "https://localhost:8080/"
        },
        "id": "5BFU59U2gcf4",
        "outputId": "58459b79-c689-4344-a04b-f055f4002b6a"
      },
      "execution_count": 48,
      "outputs": [
        {
          "output_type": "stream",
          "name": "stdout",
          "text": [
            "375/375 [==============================] - 1s 3ms/step - loss: 0.3225 - accuracy: 0.8830\n"
          ]
        },
        {
          "output_type": "execute_result",
          "data": {
            "text/plain": [
              "[0.32248544692993164, 0.8830000162124634]"
            ]
          },
          "metadata": {},
          "execution_count": 48
        }
      ]
    },
    {
      "cell_type": "markdown",
      "source": [
        "# 전체 소스코드"
      ],
      "metadata": {
        "id": "cvI0gRpkg50j"
      }
    },
    {
      "cell_type": "markdown",
      "metadata": {
        "id": "pqxnslml3tu6"
      },
      "source": [
        "# 신경망 모델 훈련"
      ]
    },
    {
      "cell_type": "markdown",
      "metadata": {
        "id": "fN7zF6Zy3tvE"
      },
      "source": [
        "<table align=\"left\">\n",
        "  <td>\n",
        "    <a target=\"_blank\" href=\"https://colab.research.google.com/github/rickiepark/hg-mldl/blob/master/7-3.ipynb\"><img src=\"https://www.tensorflow.org/images/colab_logo_32px.png\" />구글 코랩에서 실행하기</a>\n",
        "  </td>\n",
        "</table>"
      ]
    },
    {
      "cell_type": "code",
      "execution_count": null,
      "metadata": {
        "id": "5xTK-1o2g1RY"
      },
      "outputs": [],
      "source": [
        "# 실행마다 동일한 결과를 얻기 위해 케라스에 랜덤 시드를 사용하고 텐서플로 연산을 결정적으로 만듭니다. \n",
        "import tensorflow as tf\n",
        "\n",
        "tf.keras.utils.set_random_seed(42)\n",
        "tf.config.experimental.enable_op_determinism()"
      ]
    },
    {
      "cell_type": "markdown",
      "metadata": {
        "id": "XGP-X65EmJBg"
      },
      "source": [
        "## 손실 곡선"
      ]
    },
    {
      "cell_type": "code",
      "execution_count": null,
      "metadata": {
        "id": "hZsGl9udlqZk"
      },
      "outputs": [],
      "source": [
        "from tensorflow import keras\n",
        "from sklearn.model_selection import train_test_split\n",
        "\n",
        "(train_input, train_target), (test_input, test_target) = \\\n",
        "    keras.datasets.fashion_mnist.load_data()\n",
        "\n",
        "train_scaled = train_input / 255.0\n",
        "\n",
        "train_scaled, val_scaled, train_target, val_target = train_test_split(\n",
        "    train_scaled, train_target, test_size=0.2, random_state=42)"
      ]
    },
    {
      "cell_type": "code",
      "execution_count": null,
      "metadata": {
        "id": "iogH7o0Ll6uL"
      },
      "outputs": [],
      "source": [
        "def model_fn(a_layer=None):\n",
        "    model = keras.Sequential()\n",
        "    model.add(keras.layers.Flatten(input_shape=(28, 28)))\n",
        "    model.add(keras.layers.Dense(100, activation='relu'))\n",
        "    if a_layer:\n",
        "        model.add(a_layer)\n",
        "    model.add(keras.layers.Dense(10, activation='softmax'))\n",
        "    return model"
      ]
    },
    {
      "cell_type": "code",
      "execution_count": null,
      "metadata": {
        "colab": {
          "base_uri": "https://localhost:8080/"
        },
        "id": "5Eh6hM4DNdzu",
        "outputId": "0e2c29b8-8fd5-4432-a667-020a01c36fa7"
      },
      "outputs": [
        {
          "name": "stdout",
          "output_type": "stream",
          "text": [
            "Model: \"sequential\"\n",
            "_________________________________________________________________\n",
            " Layer (type)                Output Shape              Param #   \n",
            "=================================================================\n",
            " flatten (Flatten)           (None, 784)               0         \n",
            "                                                                 \n",
            " dense (Dense)               (None, 100)               78500     \n",
            "                                                                 \n",
            " dense_1 (Dense)             (None, 10)                1010      \n",
            "                                                                 \n",
            "=================================================================\n",
            "Total params: 79,510\n",
            "Trainable params: 79,510\n",
            "Non-trainable params: 0\n",
            "_________________________________________________________________\n"
          ]
        },
        {
          "name": "stderr",
          "output_type": "stream",
          "text": [
            "2022-05-19 01:03:54.167698: I tensorflow/core/platform/cpu_feature_guard.cc:193] This TensorFlow binary is optimized with oneAPI Deep Neural Network Library (oneDNN) to use the following CPU instructions in performance-critical operations:  AVX2 AVX512F FMA\n",
            "To enable them in other operations, rebuild TensorFlow with the appropriate compiler flags.\n"
          ]
        }
      ],
      "source": [
        "model = model_fn()\n",
        "\n",
        "model.summary()"
      ]
    },
    {
      "cell_type": "code",
      "execution_count": null,
      "metadata": {
        "id": "P-UK21N_mCM0"
      },
      "outputs": [],
      "source": [
        "model.compile(loss='sparse_categorical_crossentropy', metrics='accuracy')\n",
        "\n",
        "history = model.fit(train_scaled, train_target, epochs=5, verbose=0)"
      ]
    },
    {
      "cell_type": "code",
      "execution_count": null,
      "metadata": {
        "colab": {
          "base_uri": "https://localhost:8080/"
        },
        "id": "1ix_EA2LpaR0",
        "outputId": "63049ab7-b817-4fcd-9f8a-ab73d73f89cd"
      },
      "outputs": [
        {
          "name": "stdout",
          "output_type": "stream",
          "text": [
            "dict_keys(['loss', 'accuracy'])\n"
          ]
        }
      ],
      "source": [
        "print(history.history.keys())"
      ]
    },
    {
      "cell_type": "code",
      "execution_count": null,
      "metadata": {
        "colab": {
          "base_uri": "https://localhost:8080/",
          "height": 279
        },
        "id": "uz_TCdfPmG6e",
        "outputId": "033f08e3-9dee-4e4a-85b6-dacbfdc8ae38"
      },
      "outputs": [
        {
          "data": {
            "image/png": "[encoded data removed]",
            "text/plain": [
              "<Figure size 432x288 with 1 Axes>"
            ]
          },
          "metadata": {
            "needs_background": "light"
          },
          "output_type": "display_data"
        }
      ],
      "source": [
        "import matplotlib.pyplot as plt\n",
        "\n",
        "plt.plot(history.history['loss'])\n",
        "plt.xlabel('epoch')\n",
        "plt.ylabel('loss')\n",
        "plt.show()"
      ]
    },
    {
      "cell_type": "code",
      "execution_count": null,
      "metadata": {
        "colab": {
          "base_uri": "https://localhost:8080/",
          "height": 283
        },
        "id": "CpmK9lXQcBe9",
        "outputId": "dbbe0523-1ac8-47ab-b655-60ae9de9ea08"
      },
      "outputs": [
        {
          "data": {
            "image/png": "[encoded data removed]",
            "text/plain": [
              "<Figure size 432x288 with 1 Axes>"
            ]
          },
          "metadata": {
            "needs_background": "light"
          },
          "output_type": "display_data"
        }
      ],
      "source": [
        "plt.plot(history.history['accuracy'])\n",
        "plt.xlabel('epoch')\n",
        "plt.ylabel('accuracy')\n",
        "plt.show()"
      ]
    },
    {
      "cell_type": "code",
      "execution_count": null,
      "metadata": {
        "id": "5cJlWITXqJWr"
      },
      "outputs": [],
      "source": [
        "model = model_fn()\n",
        "model.compile(loss='sparse_categorical_crossentropy', metrics='accuracy')\n",
        "\n",
        "history = model.fit(train_scaled, train_target, epochs=20, verbose=0)"
      ]
    },
    {
      "cell_type": "code",
      "execution_count": null,
      "metadata": {
        "colab": {
          "base_uri": "https://localhost:8080/",
          "height": 279
        },
        "id": "YT87Fjo2qKPC",
        "outputId": "1b1831ef-8c0b-4c47-d842-d6e32eb7449c"
      },
      "outputs": [
        {
          "data": {
            "image/png": "[encoded data removed]",
            "text/plain": [
              "<Figure size 432x288 with 1 Axes>"
            ]
          },
          "metadata": {
            "needs_background": "light"
          },
          "output_type": "display_data"
        }
      ],
      "source": [
        "plt.plot(history.history['loss'])\n",
        "plt.xlabel('epoch')\n",
        "plt.ylabel('loss')\n",
        "plt.show()"
      ]
    },
    {
      "cell_type": "markdown",
      "metadata": {
        "id": "bGqf6ceRr3zO"
      },
      "source": [
        "## 검증 손실"
      ]
    },
    {
      "cell_type": "code",
      "execution_count": null,
      "metadata": {
        "id": "4_iHvMxwu2D2"
      },
      "outputs": [],
      "source": [
        "model = model_fn()\n",
        "model.compile(loss='sparse_categorical_crossentropy', metrics='accuracy')\n",
        "\n",
        "history = model.fit(train_scaled, train_target, epochs=20, verbose=0, \n",
        "                    validation_data=(val_scaled, val_target))"
      ]
    },
    {
      "cell_type": "code",
      "execution_count": null,
      "metadata": {
        "colab": {
          "base_uri": "https://localhost:8080/"
        },
        "id": "nJ5RGEmLu5KI",
        "outputId": "2a59e1ef-9850-4fe1-db3b-a8eaf7d14876"
      },
      "outputs": [
        {
          "name": "stdout",
          "output_type": "stream",
          "text": [
            "dict_keys(['loss', 'accuracy', 'val_loss', 'val_accuracy'])\n"
          ]
        }
      ],
      "source": [
        "print(history.history.keys())"
      ]
    },
    {
      "cell_type": "code",
      "execution_count": null,
      "metadata": {
        "colab": {
          "base_uri": "https://localhost:8080/",
          "height": 279
        },
        "id": "zcpm7CpXu5vC",
        "outputId": "0aa51ffc-0966-44d4-e513-0d7db84c87ce"
      },
      "outputs": [
        {
          "data": {
            "image/png": "[encoded data removed]",
            "text/plain": [
              "<Figure size 432x288 with 1 Axes>"
            ]
          },
          "metadata": {
            "needs_background": "light"
          },
          "output_type": "display_data"
        }
      ],
      "source": [
        "plt.plot(history.history['loss'])\n",
        "plt.plot(history.history['val_loss'])\n",
        "plt.xlabel('epoch')\n",
        "plt.ylabel('loss')\n",
        "plt.legend(['train', 'val'])\n",
        "plt.show()"
      ]
    },
    {
      "cell_type": "code",
      "execution_count": null,
      "metadata": {
        "id": "qC8gDwo3qcJv"
      },
      "outputs": [],
      "source": [
        "model = model_fn()\n",
        "model.compile(optimizer='adam', loss='sparse_categorical_crossentropy', \n",
        "              metrics='accuracy')\n",
        "\n",
        "history = model.fit(train_scaled, train_target, epochs=20, verbose=0, \n",
        "                    validation_data=(val_scaled, val_target))"
      ]
    },
    {
      "cell_type": "code",
      "execution_count": null,
      "metadata": {
        "colab": {
          "base_uri": "https://localhost:8080/",
          "height": 279
        },
        "id": "k8wWnyFzsLKb",
        "outputId": "140306b0-3e43-4178-8941-79ec92023510"
      },
      "outputs": [
        {
          "data": {
            "image/png": "[encoded data removed]",
            "text/plain": [
              "<Figure size 432x288 with 1 Axes>"
            ]
          },
          "metadata": {
            "needs_background": "light"
          },
          "output_type": "display_data"
        }
      ],
      "source": [
        "plt.plot(history.history['loss'])\n",
        "plt.plot(history.history['val_loss'])\n",
        "plt.xlabel('epoch')\n",
        "plt.ylabel('loss')\n",
        "plt.legend(['train', 'val'])\n",
        "plt.show()"
      ]
    },
    {
      "cell_type": "markdown",
      "metadata": {
        "id": "F-dFY8lrYXm3"
      },
      "source": [
        "## 드롭아웃"
      ]
    },
    {
      "cell_type": "code",
      "execution_count": null,
      "metadata": {
        "colab": {
          "base_uri": "https://localhost:8080/"
        },
        "id": "AppFtFKgsk--",
        "outputId": "64f0076d-94a0-4003-c907-e8e149a2458f"
      },
      "outputs": [
        {
          "name": "stdout",
          "output_type": "stream",
          "text": [
            "Model: \"sequential_4\"\n",
            "_________________________________________________________________\n",
            " Layer (type)                Output Shape              Param #   \n",
            "=================================================================\n",
            " flatten_4 (Flatten)         (None, 784)               0         \n",
            "                                                                 \n",
            " dense_8 (Dense)             (None, 100)               78500     \n",
            "                                                                 \n",
            " dropout (Dropout)           (None, 100)               0         \n",
            "                                                                 \n",
            " dense_9 (Dense)             (None, 10)                1010      \n",
            "                                                                 \n",
            "=================================================================\n",
            "Total params: 79,510\n",
            "Trainable params: 79,510\n",
            "Non-trainable params: 0\n",
            "_________________________________________________________________\n"
          ]
        }
      ],
      "source": [
        "model = model_fn(keras.layers.Dropout(0.3))\n",
        "\n",
        "model.summary()"
      ]
    },
    {
      "cell_type": "code",
      "execution_count": null,
      "metadata": {
        "id": "_TSe7oM9v1lW"
      },
      "outputs": [],
      "source": [
        "model.compile(optimizer='adam', loss='sparse_categorical_crossentropy', \n",
        "              metrics='accuracy')\n",
        "\n",
        "history = model.fit(train_scaled, train_target, epochs=20, verbose=0, \n",
        "                    validation_data=(val_scaled, val_target))"
      ]
    },
    {
      "cell_type": "code",
      "execution_count": null,
      "metadata": {
        "colab": {
          "base_uri": "https://localhost:8080/",
          "height": 279
        },
        "id": "Rj_syB_iv30l",
        "outputId": "71f26e56-f44f-44c9-ce4b-fc6b60b469ce"
      },
      "outputs": [
        {
          "data": {
            "image/png": "[encoded data removed]",
            "text/plain": [
              "<Figure size 432x288 with 1 Axes>"
            ]
          },
          "metadata": {
            "needs_background": "light"
          },
          "output_type": "display_data"
        }
      ],
      "source": [
        "plt.plot(history.history['loss'])\n",
        "plt.plot(history.history['val_loss'])\n",
        "plt.xlabel('epoch')\n",
        "plt.ylabel('loss')\n",
        "plt.legend(['train', 'val'])\n",
        "plt.show()"
      ]
    },
    {
      "cell_type": "markdown",
      "metadata": {
        "id": "hQi91PCQorHr"
      },
      "source": [
        "## 모델 저장과 복원"
      ]
    },
    {
      "cell_type": "code",
      "execution_count": null,
      "metadata": {
        "id": "npsYdX3rv6Oa"
      },
      "outputs": [],
      "source": [
        "model = model_fn(keras.layers.Dropout(0.3))\n",
        "model.compile(optimizer='adam', loss='sparse_categorical_crossentropy', \n",
        "              metrics='accuracy')\n",
        "\n",
        "history = model.fit(train_scaled, train_target, epochs=10, verbose=0, \n",
        "                    validation_data=(val_scaled, val_target))"
      ]
    },
    {
      "cell_type": "code",
      "execution_count": null,
      "metadata": {
        "id": "hWVYzt0Y2FPm"
      },
      "outputs": [],
      "source": [
        "model.save_weights('model-weights.h5')"
      ]
    },
    {
      "cell_type": "code",
      "execution_count": null,
      "metadata": {
        "id": "NissHzcq3xbN"
      },
      "outputs": [],
      "source": [
        "model.save('model-whole.h5')"
      ]
    },
    {
      "cell_type": "code",
      "execution_count": null,
      "metadata": {
        "colab": {
          "base_uri": "https://localhost:8080/"
        },
        "id": "2vljkGGu3AUl",
        "outputId": "27ddb7a3-99c7-476d-c2b4-ccdb8432a981",
        "scrolled": true
      },
      "outputs": [
        {
          "name": "stdout",
          "output_type": "stream",
          "text": [
            "-rw-r--r-- 1 studio-lab-user users 4049416 May 14 23:47 best-cnn-model.h5\n",
            "-rw-r--r-- 1 studio-lab-user users  333448 May 19 01:08 model-weights.h5\n",
            "-rw-r--r-- 1 studio-lab-user users  982664 May 19 01:08 model-whole.h5\n"
          ]
        }
      ],
      "source": [
        "!ls -al *.h5"
      ]
    },
    {
      "cell_type": "code",
      "execution_count": null,
      "metadata": {
        "id": "7-t6gC5Z3GCM"
      },
      "outputs": [],
      "source": [
        "model = model_fn(keras.layers.Dropout(0.3))\n",
        "\n",
        "model.load_weights('model-weights.h5')"
      ]
    },
    {
      "cell_type": "code",
      "execution_count": null,
      "metadata": {
        "colab": {
          "base_uri": "https://localhost:8080/"
        },
        "id": "pHV9tBnzi8St",
        "outputId": "7da9201e-32c9-4802-dad4-9801c4cb50fc"
      },
      "outputs": [
        {
          "name": "stdout",
          "output_type": "stream",
          "text": [
            "375/375 [==============================] - 1s 1ms/step\n",
            "0.8843333333333333\n"
          ]
        }
      ],
      "source": [
        "import numpy as np\n",
        "\n",
        "val_labels = np.argmax(model.predict(val_scaled), axis=-1)\n",
        "print(np.mean(val_labels == val_target))"
      ]
    },
    {
      "cell_type": "code",
      "execution_count": null,
      "metadata": {
        "colab": {
          "base_uri": "https://localhost:8080/"
        },
        "id": "sRM3Vpki4QyH",
        "outputId": "69127611-2c5f-4452-b716-fb4a8de59c4c"
      },
      "outputs": [
        {
          "name": "stdout",
          "output_type": "stream",
          "text": [
            "375/375 [==============================] - 1s 1ms/step - loss: 0.3304 - accuracy: 0.8843\n"
          ]
        },
        {
          "data": {
            "text/plain": [
              "[0.33038878440856934, 0.8843333125114441]"
            ]
          },
          "execution_count": 25,
          "metadata": {},
          "output_type": "execute_result"
        }
      ],
      "source": [
        "model = keras.models.load_model('model-whole.h5')\n",
        "\n",
        "model.evaluate(val_scaled, val_target)"
      ]
    },
    {
      "cell_type": "markdown",
      "metadata": {
        "id": "4NTCF3YD3EyA"
      },
      "source": [
        "## 콜백"
      ]
    },
    {
      "cell_type": "code",
      "execution_count": null,
      "metadata": {
        "colab": {
          "base_uri": "https://localhost:8080/"
        },
        "id": "L2lKN_934VB4",
        "outputId": "29d7e4a2-5363-4e8d-b700-a531bb4759df"
      },
      "outputs": [
        {
          "data": {
            "text/plain": [
              "<keras.callbacks.History at 0x7fedd28d20a0>"
            ]
          },
          "execution_count": 26,
          "metadata": {},
          "output_type": "execute_result"
        }
      ],
      "source": [
        "model = model_fn(keras.layers.Dropout(0.3))\n",
        "model.compile(optimizer='adam', loss='sparse_categorical_crossentropy', \n",
        "              metrics='accuracy')\n",
        "\n",
        "checkpoint_cb = keras.callbacks.ModelCheckpoint('best-model.h5', \n",
        "                                                save_best_only=True)\n",
        "\n",
        "model.fit(train_scaled, train_target, epochs=20, verbose=0, \n",
        "          validation_data=(val_scaled, val_target),\n",
        "          callbacks=[checkpoint_cb])"
      ]
    },
    {
      "cell_type": "code",
      "execution_count": null,
      "metadata": {
        "colab": {
          "base_uri": "https://localhost:8080/"
        },
        "id": "qYISeH6U5oh9",
        "outputId": "1f4391a4-6dab-403f-aa44-a00cb8b6dba8"
      },
      "outputs": [
        {
          "name": "stdout",
          "output_type": "stream",
          "text": [
            "375/375 [==============================] - 1s 2ms/step - loss: 0.3172 - accuracy: 0.8863\n"
          ]
        },
        {
          "data": {
            "text/plain": [
              "[0.31721678376197815, 0.8862500190734863]"
            ]
          },
          "execution_count": 27,
          "metadata": {},
          "output_type": "execute_result"
        }
      ],
      "source": [
        "model = keras.models.load_model('best-model.h5')\n",
        "\n",
        "model.evaluate(val_scaled, val_target)"
      ]
    },
    {
      "cell_type": "code",
      "execution_count": null,
      "metadata": {
        "id": "HLLlkR0s5Nd8"
      },
      "outputs": [],
      "source": [
        "model = model_fn(keras.layers.Dropout(0.3))\n",
        "model.compile(optimizer='adam', loss='sparse_categorical_crossentropy', \n",
        "              metrics='accuracy')\n",
        "\n",
        "checkpoint_cb = keras.callbacks.ModelCheckpoint('best-model.h5', \n",
        "                                                save_best_only=True)\n",
        "early_stopping_cb = keras.callbacks.EarlyStopping(patience=2,\n",
        "                                                  restore_best_weights=True)\n",
        "\n",
        "history = model.fit(train_scaled, train_target, epochs=20, verbose=0, \n",
        "                    validation_data=(val_scaled, val_target),\n",
        "                    callbacks=[checkpoint_cb, early_stopping_cb])"
      ]
    },
    {
      "cell_type": "code",
      "execution_count": null,
      "metadata": {
        "colab": {
          "base_uri": "https://localhost:8080/"
        },
        "id": "b6TazMcDxqXD",
        "outputId": "3f559a9c-3ba2-478a-b607-d8ac6ea4d55a"
      },
      "outputs": [
        {
          "name": "stdout",
          "output_type": "stream",
          "text": [
            "9\n"
          ]
        }
      ],
      "source": [
        "print(early_stopping_cb.stopped_epoch)"
      ]
    },
    {
      "cell_type": "code",
      "execution_count": null,
      "metadata": {
        "colab": {
          "base_uri": "https://localhost:8080/",
          "height": 279
        },
        "id": "QrUNYGPB6Kq7",
        "outputId": "13ccaee5-3d8b-421b-8636-90cf23dbacba"
      },
      "outputs": [
        {
          "data": {
            "image/png": "[encoded data removed]",
            "text/plain": [
              "<Figure size 432x288 with 1 Axes>"
            ]
          },
          "metadata": {
            "needs_background": "light"
          },
          "output_type": "display_data"
        }
      ],
      "source": [
        "plt.plot(history.history['loss'])\n",
        "plt.plot(history.history['val_loss'])\n",
        "plt.xlabel('epoch')\n",
        "plt.ylabel('loss')\n",
        "plt.legend(['train', 'val'])\n",
        "plt.show()"
      ]
    },
    {
      "cell_type": "code",
      "execution_count": null,
      "metadata": {
        "colab": {
          "base_uri": "https://localhost:8080/"
        },
        "id": "H-7y1qlg5yqO",
        "outputId": "f374810c-71af-4690-a90d-7571e734e62e"
      },
      "outputs": [
        {
          "name": "stdout",
          "output_type": "stream",
          "text": [
            "375/375 [==============================] - 1s 3ms/step - loss: 0.3294 - accuracy: 0.8803\n"
          ]
        },
        {
          "data": {
            "text/plain": [
              "[0.3294179141521454, 0.8803333044052124]"
            ]
          },
          "execution_count": 31,
          "metadata": {},
          "output_type": "execute_result"
        }
      ],
      "source": [
        "model.evaluate(val_scaled, val_target)"
      ]
    },
    {
      "cell_type": "markdown",
      "source": [
        "# 총 정리"
      ],
      "metadata": {
        "id": "cWlzazeHhCao"
      }
    },
    {
      "cell_type": "markdown",
      "source": [
        "## 키워드"
      ],
      "metadata": {
        "id": "TgMh-yNGhDNb"
      }
    },
    {
      "cell_type": "markdown",
      "source": [
        "### 드롭아웃\n",
        "      은닉층에 있는 뉴런의 출력을 랜덤하게 꺼서 과대적합을 막는 기범\n",
        "      훈련 중에 적용되며 평가나 예측에서는 적용하지 않음\n",
        "      텐서플로는 이를 자동으로 처리함"
      ],
      "metadata": {
        "id": "u1IDOY6whEjU"
      }
    },
    {
      "cell_type": "markdown",
      "source": [
        "### 콜백\n",
        "      케라스 모델을 훈련하는 도중에 어떤 작업을 수행할 수 있도록 도와주는 도구\n",
        "      대표적으로 최상의 모델을 자동으로 저장해 주거나 검증 점수 향상이 보이지 않으면 조기 종료할 수 있음"
      ],
      "metadata": {
        "id": "2fUDwmVzhNLC"
      }
    },
    {
      "cell_type": "markdown",
      "source": [
        "## 핵심 패키지와 함수"
      ],
      "metadata": {
        "id": "K39ClMdNhVul"
      }
    },
    {
      "cell_type": "markdown",
      "source": [
        "### TensorFlow"
      ],
      "metadata": {
        "id": "ShtJpdAvhX5W"
      }
    },
    {
      "cell_type": "markdown",
      "source": [
        "#### Dropout\n",
        "      드롭아웃 층\n",
        "      첫 번째 매개변수로 드롭아웃 할 비율(r)을 지정,\n",
        "      드롭아웃 하지 않는 뉴런의 출력은 1/(1-r)만큼 증가 시켜 출력의 총합이 같도록 만듦"
      ],
      "metadata": {
        "id": "dWbsl9t1haa_"
      }
    },
    {
      "cell_type": "markdown",
      "source": [
        "#### save_weights()\n",
        "        모든 층의 가중치와 절편을 파일에 저장\n",
        "        첫 번째 매개변수에 저장할 파일을 지정\n",
        "        save_format 매개변수에서 지정할 파일 포맷 지정, 디폴트는 텐서플로의 Checkpoint 포맷\n",
        "        'h5'로 지정하거나 파일 확장자가 '.h5'면 HDF5로 저장"
      ],
      "metadata": {
        "id": "tXByOVM6hmG9"
      }
    },
    {
      "cell_type": "markdown",
      "source": [
        "#### load_weights()\n",
        "      모든 층의 가중치와 절편을 파일에 읽음\n",
        "      첫 번째 매개변수에 읽을 파일 지정\n"
      ],
      "metadata": {
        "id": "B6TR0w2Ch5fP"
      }
    },
    {
      "cell_type": "markdown",
      "source": [
        "#### save()\n",
        "      모델 구조와 모든 가중치와 절편을 파일에 저장\n",
        "      첫 번째 매개변수에 저장할 파일 지정\n",
        "      save_format 매개변수에서 지정할 파일 포맷 지정, 디폴트는 텐서플로의 Checkpoint 포맷\n",
        "      h5'로 지정하거나 파일 확장자가 '.h5'면 HDF5로 저장"
      ],
      "metadata": {
        "id": "1sIvUM6oiGYt"
      }
    },
    {
      "cell_type": "markdown",
      "source": [
        "#### load_model()\n",
        "      저장된 모델을 로드\n",
        "      첫 번째 매개변수에 읽을 파일 지정"
      ],
      "metadata": {
        "id": "NczztfKTiRYk"
      }
    },
    {
      "cell_type": "markdown",
      "source": [
        "#### ModelCheckpoint\n",
        "      케라스 모델과 가중치를 일정 간격으로 저장\n",
        "      첫 번째 매개변수에 저장할 파일을 지정\n",
        "      monitor 매개변수는 모니터링할 지표를 지정, 디폴트는 'val_loss'\n",
        "      save_weights_only 매개변수의 디폴트는 False로 전체 모델을 저장, True로 지정하면 모델의 가중치와 절편만 저장\n",
        "      save_best_only 매개변수를 True로 지정하면 가장 낮은 검증 점수를 만드는 모델을 저장"
      ],
      "metadata": {
        "id": "j3oIcJZCiXQb"
      }
    },
    {
      "cell_type": "markdown",
      "source": [
        "#### EarlyStopping\n",
        "      관심 지표가 더 이상 향상하지 않으면 훈련을 중지\n",
        "      monitor 매개변수는 모니터링할 지표를 지정, 디폴트는 'val_loss'\n",
        "      patience 매개변수에 모델이 더 이상 향상되지 않고 지속할 수 있는 최대 에포크 횟수 지정\n",
        "      restore_best_weights 매개변수에 최상의 모델 가중치를 복원할지 지정, 디폴트는 False"
      ],
      "metadata": {
        "id": "KyP_TdeaiuCw"
      }
    },
    {
      "cell_type": "markdown",
      "source": [
        "### NumPy"
      ],
      "metadata": {
        "id": "b4bN-RY-jLmJ"
      }
    },
    {
      "cell_type": "markdown",
      "source": [
        "#### argmax\n",
        "      배열에서 축을 따라 최댓값의 인덱스를 반환\n",
        "      axis 매개변수에서 어떤 축을 따라 최댓값을 찾을지 지정, 디폴트는 None으로 전체 배열에서 최댓값을 찾음"
      ],
      "metadata": {
        "id": "lcYBIKd0jNgo"
      }
    },
    {
      "cell_type": "markdown",
      "source": [
        "# 팁"
      ],
      "metadata": {
        "id": "TLcuFvEojvUe"
      }
    },
    {
      "cell_type": "markdown",
      "source": [
        "1. 인공 신경망 모델이 최적화하는 대상은 정확도가 아니라 손실 함수이다. 따라서 정확도 보다는 손실 함수의 값을 확인해야 함!"
      ],
      "metadata": {
        "id": "ZD4g19nMjwNe"
      }
    }
  ]
}