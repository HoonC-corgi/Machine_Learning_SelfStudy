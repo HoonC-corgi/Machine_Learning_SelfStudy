{
  "nbformat": 4,
  "nbformat_minor": 0,
  "metadata": {
    "colab": {
      "provenance": [],
      "authorship_tag": "ABX9TyNBlvSGtO2jAiMFr2QJiPM/",
      "include_colab_link": true
    },
    "kernelspec": {
      "name": "python3",
      "display_name": "Python 3"
    },
    "language_info": {
      "name": "python"
    }
  },
  "cells": [
    {
      "cell_type": "markdown",
      "metadata": {
        "id": "view-in-github",
        "colab_type": "text"
      },
      "source": [
        "<a href=\"https://colab.research.google.com/github/HoonC-corgi/Machine_Learning_SelfStudy/blob/main/08_3_Visualization_of_CNN%2C%20Functionl%20API.ipynb\" target=\"_parent\"><img src=\"https://colab.research.google.com/assets/colab-badge.svg\" alt=\"Open In Colab\"/></a>"
      ]
    },
    {
      "cell_type": "markdown",
      "source": [
        "# 합성곱 신경망의 시각화"
      ],
      "metadata": {
        "id": "0oDXAmCn5dGy"
      }
    },
    {
      "cell_type": "code",
      "execution_count": 1,
      "metadata": {
        "id": "ZUbm9npZ49qU"
      },
      "outputs": [],
      "source": [
        "# 실행마다 동일한 결과를 얻기 위해 케라스에 랜덤 시드를 사용하고 텐서플로 연산을 결정적으로 만듭니다. \n",
        "import tensorflow as tf\n",
        "\n",
        "tf.keras.utils.set_random_seed(42)\n",
        "tf.config.experimental.enable_op_determinism()"
      ]
    },
    {
      "cell_type": "markdown",
      "source": [
        "## 가중치 시각화"
      ],
      "metadata": {
        "id": "kOl6AT7D5jJp"
      }
    },
    {
      "cell_type": "code",
      "source": [
        "from tensorflow import keras"
      ],
      "metadata": {
        "id": "4mSq4PVn5ceV"
      },
      "execution_count": 2,
      "outputs": []
    },
    {
      "cell_type": "code",
      "source": [
        "!wget https://github.com/rickiepark/hg-mldl/raw/master/best-cnn-model.h5"
      ],
      "metadata": {
        "colab": {
          "base_uri": "https://localhost:8080/"
        },
        "id": "DYTaljZt5knI",
        "outputId": "ec183069-fb8d-4674-9a95-2aefab6883b3"
      },
      "execution_count": 3,
      "outputs": [
        {
          "output_type": "stream",
          "name": "stdout",
          "text": [
            "--2023-02-23 06:12:00--  https://github.com/rickiepark/hg-mldl/raw/master/best-cnn-model.h5\n",
            "Resolving github.com (github.com)... 140.82.113.3\n",
            "Connecting to github.com (github.com)|140.82.113.3|:443... connected.\n",
            "HTTP request sent, awaiting response... 302 Found\n",
            "Location: https://raw.githubusercontent.com/rickiepark/hg-mldl/master/best-cnn-model.h5 [following]\n",
            "--2023-02-23 06:12:01--  https://raw.githubusercontent.com/rickiepark/hg-mldl/master/best-cnn-model.h5\n",
            "Resolving raw.githubusercontent.com (raw.githubusercontent.com)... 185.199.108.133, 185.199.109.133, 185.199.110.133, ...\n",
            "Connecting to raw.githubusercontent.com (raw.githubusercontent.com)|185.199.108.133|:443... connected.\n",
            "HTTP request sent, awaiting response... 200 OK\n",
            "Length: 4049416 (3.9M) [application/octet-stream]\n",
            "Saving to: ‘best-cnn-model.h5’\n",
            "\n",
            "best-cnn-model.h5   100%[===================>]   3.86M  --.-KB/s    in 0.07s   \n",
            "\n",
            "2023-02-23 06:12:01 (53.6 MB/s) - ‘best-cnn-model.h5’ saved [4049416/4049416]\n",
            "\n"
          ]
        }
      ]
    },
    {
      "cell_type": "code",
      "source": [
        "model = keras.models.load_model('best-cnn-model.h5')"
      ],
      "metadata": {
        "id": "alOQoSiA5mV-"
      },
      "execution_count": 5,
      "outputs": []
    },
    {
      "cell_type": "code",
      "source": [
        "model.layers"
      ],
      "metadata": {
        "colab": {
          "base_uri": "https://localhost:8080/"
        },
        "id": "v3dY2Eqe5wcP",
        "outputId": "959713f3-1c30-4228-9246-5dfbfcf82f30"
      },
      "execution_count": 6,
      "outputs": [
        {
          "output_type": "execute_result",
          "data": {
            "text/plain": [
              "[<keras.layers.convolutional.conv2d.Conv2D at 0x7f0ec71fb610>,\n",
              " <keras.layers.pooling.max_pooling2d.MaxPooling2D at 0x7f0ec6665e20>,\n",
              " <keras.layers.convolutional.conv2d.Conv2D at 0x7f0ec1fc65e0>,\n",
              " <keras.layers.pooling.max_pooling2d.MaxPooling2D at 0x7f0ec1fc6f10>,\n",
              " <keras.layers.reshaping.flatten.Flatten at 0x7f0ec1f79820>,\n",
              " <keras.layers.core.dense.Dense at 0x7f0ec1f823a0>,\n",
              " <keras.layers.regularization.dropout.Dropout at 0x7f0ec1f82b50>,\n",
              " <keras.layers.core.dense.Dense at 0x7f0ec1f82280>]"
            ]
          },
          "metadata": {},
          "execution_count": 6
        }
      ]
    },
    {
      "cell_type": "code",
      "source": [
        "# 첫 번째 합성곱 층의 가중치를 조사하면,\n",
        "# weights 속성에 층의 가중치와 절편이 저장되어 있으\n",
        "conv = model.layers[0]\n",
        "print(conv.weights[0].shape, conv.weights[1].shape)\n",
        "# (3, 3)의 커널의 깊이가 1, 필터 개수가 32개이므로 weights 의 첫 번째 원소인 가중치의 크기 32 (32,)"
      ],
      "metadata": {
        "colab": {
          "base_uri": "https://localhost:8080/"
        },
        "id": "CJKP_cq55171",
        "outputId": "fbb2336a-5430-4599-f9cd-95280c455a6b"
      },
      "execution_count": 9,
      "outputs": [
        {
          "output_type": "stream",
          "name": "stdout",
          "text": [
            "(3, 3, 1, 32) (32,)\n"
          ]
        }
      ]
    },
    {
      "cell_type": "code",
      "source": [
        "# 텐서플로의 다차원 배열인 Tensor 클래스의 객체 weights를 numpy() 메소드를 이용해 넘파이 배열로 변환\n",
        "conv_weights = conv.weights[0].numpy()\n",
        "print(conv_weights.mean(), conv_weights.std())\n",
        "# 가중치의 평균은 0과 가깝고, 표준편차는 0.23 정도"
      ],
      "metadata": {
        "colab": {
          "base_uri": "https://localhost:8080/"
        },
        "id": "WJcDNWGk6Ht3",
        "outputId": "a049fb63-5753-4e77-8abe-68d5b5d014b2"
      },
      "execution_count": 11,
      "outputs": [
        {
          "output_type": "stream",
          "name": "stdout",
          "text": [
            "-0.021033935 0.23466988\n"
          ]
        }
      ]
    },
    {
      "cell_type": "code",
      "source": [
        "# 이를 훈련하기 전의 가중치와 비교하기 위해 히스토그램을 그려보면,\n",
        "import matplotlib.pyplot as plt\n",
        "plt.hist(conv_weights.reshape(-1,1))    # hist() 메소드는 히스토그램을 그리기 위해서 1차원 배열로 전달해야하므로 1개의 열이 있는 1차원 배열로 변환\n",
        "plt.xlabel('weight')\n",
        "plt.ylabel('count')\n",
        "plt.show()"
      ],
      "metadata": {
        "colab": {
          "base_uri": "https://localhost:8080/",
          "height": 279
        },
        "id": "Lc7zephd6vpS",
        "outputId": "83888108-9579-4b3f-b726-23eb9c14794e"
      },
      "execution_count": 13,
      "outputs": [
        {
          "output_type": "display_data",
          "data": {
            "text/plain": [
              "<Figure size 432x288 with 1 Axes>"
            ],
            "image/png": "[encoded data removed]"
          },
          "metadata": {
            "needs_background": "light"
          }
        }
      ]
    },
    {
      "cell_type": "code",
      "source": [
        "# 32개의 커널을 16개씩 두 줄에 출력\n",
        "fig, axs = plt.subplots(2, 16, figsize=(15,2))\n",
        "for i in range(2):    # i는 0~1\n",
        "  for j in range(16):   # j는 0~15\n",
        "    axs[i,j].imshow(conv_weights[:,:,0,i*16 + j], vmin=-0.5, vmax=0.5)    \n",
        "    # conv_weights[:,:,0,0] ~ conv_weights[:,:,0,31]까지 출력, vmin, vmax는 컬러맵으로 표현한 범위 지정, 기준이 될 절댓값을 지정한 것\n",
        "    axs[i,j].axis('off')\n",
        "plt.show()"
      ],
      "metadata": {
        "colab": {
          "base_uri": "https://localhost:8080/",
          "height": 134
        },
        "id": "Nmr6bnaV7FeX",
        "outputId": "d08fbc83-e12e-4ccb-f9ee-1ce655c241a9"
      },
      "execution_count": 15,
      "outputs": [
        {
          "output_type": "display_data",
          "data": {
            "text/plain": [
              "<Figure size 1080x144 with 32 Axes>"
            ],
            "image/png": "[encoded data removed]"
          },
          "metadata": {
            "needs_background": "light"
          }
        }
      ]
    },
    {
      "cell_type": "markdown",
      "source": [
        "## 비교할 빈 합성곱 신경망 만들기"
      ],
      "metadata": {
        "id": "gyLQGHeh8280"
      }
    },
    {
      "cell_type": "code",
      "source": [
        "no_training_model = keras.Sequential()\n",
        "no_training_model.add(keras.layers.Conv2D(32, kernel_size=3, activation=\\\n",
        "                                          'relu', padding='same', input_shape=(28, 28, 1)))"
      ],
      "metadata": {
        "id": "6-gtjx8Y7ytH"
      },
      "execution_count": 16,
      "outputs": []
    },
    {
      "cell_type": "code",
      "source": [
        "# 첫 번째 층의 가중치를 저장\n",
        "no_training_conv = no_training_model.layers[0]\n",
        "print(no_training_conv.weights[0].shape)"
      ],
      "metadata": {
        "colab": {
          "base_uri": "https://localhost:8080/"
        },
        "id": "fz-34lsT9KaR",
        "outputId": "2877055c-df8f-4764-bd8b-76244ad42612"
      },
      "execution_count": 18,
      "outputs": [
        {
          "output_type": "stream",
          "name": "stdout",
          "text": [
            "(3, 3, 1, 32)\n"
          ]
        }
      ]
    },
    {
      "cell_type": "code",
      "source": [
        "no_training_weights = no_training_conv.weights[0].numpy()\n",
        "print(no_training_weights.mean(), no_training_weights.std())\n",
        "# 표준편차가 줄어듦"
      ],
      "metadata": {
        "colab": {
          "base_uri": "https://localhost:8080/"
        },
        "id": "lwukgy7N9VzY",
        "outputId": "bbfdf9f4-7550-4515-bb0a-59936444a932"
      },
      "execution_count": 19,
      "outputs": [
        {
          "output_type": "stream",
          "name": "stdout",
          "text": [
            "-0.010310263 0.0773888\n"
          ]
        }
      ]
    },
    {
      "cell_type": "code",
      "source": [
        "# 가중치 배열을 히스토그램으로 표현하면,\n",
        "plt.hist(no_training_weights.reshape(-1, 1))\n",
        "plt.xlabel('weight')\n",
        "plt.ylabel('count')\n",
        "plt.show()"
      ],
      "metadata": {
        "colab": {
          "base_uri": "https://localhost:8080/",
          "height": 279
        },
        "id": "5HacbFNJ9iOy",
        "outputId": "e96576b8-55f8-4071-955c-fab2eac1c2af"
      },
      "execution_count": 21,
      "outputs": [
        {
          "output_type": "display_data",
          "data": {
            "text/plain": [
              "<Figure size 432x288 with 1 Axes>"
            ],
            "image/png": "[encoded data removed]"
          },
          "metadata": {
            "needs_background": "light"
          }
        }
      ]
    },
    {
      "cell_type": "code",
      "source": [
        "# 32개의 커널을 16개씩 두 줄에 출력\n",
        "fig, axs = plt.subplots(2, 16, figsize=(15,2))\n",
        "for i in range(2):    # i는 0~1\n",
        "  for j in range(16):   # j는 0~15\n",
        "    axs[i,j].imshow(no_training_weights[:,:,0,i*16 + j], vmin=-0.5, vmax=0.5)    \n",
        "    # no_training_weights[:,:,0,0] ~ no_training_weights[:,:,0,31]까지 출력, vmin, vmax는 컬러맵으로 표현한 범위 지정, 기준이 될 절댓값을 지정한 것\n",
        "    axs[i,j].axis('off')\n",
        "plt.show()\n",
        "\n",
        "# 가중치가 크게 차이 나지 않음 > 훈련이 제대로 되지 않음"
      ],
      "metadata": {
        "colab": {
          "base_uri": "https://localhost:8080/",
          "height": 134
        },
        "id": "P58ilFZ19xJJ",
        "outputId": "ea989820-ae04-4f70-a6df-8a681c50b7e0"
      },
      "execution_count": 24,
      "outputs": [
        {
          "output_type": "display_data",
          "data": {
            "text/plain": [
              "<Figure size 1080x144 with 32 Axes>"
            ],
            "image/png": "[encoded data removed]"
          },
          "metadata": {
            "needs_background": "light"
          }
        }
      ]
    },
    {
      "cell_type": "markdown",
      "source": [
        "# 함수형 API\n",
        "      입출력이 다수일 때 Sequential보다 함수형 API를 사용하는 것이 용이함"
      ],
      "metadata": {
        "id": "bFXBh-8Y-QcV"
      }
    },
    {
      "cell_type": "code",
      "source": [
        "print(model.input)"
      ],
      "metadata": {
        "colab": {
          "base_uri": "https://localhost:8080/"
        },
        "id": "0WVLFcZK-nTK",
        "outputId": "82c568a4-6d93-4285-f0ad-7405a983df09"
      },
      "execution_count": 29,
      "outputs": [
        {
          "output_type": "stream",
          "name": "stdout",
          "text": [
            "KerasTensor(type_spec=TensorSpec(shape=(None, 28, 28, 1), dtype=tf.float32, name='conv2d_input'), name='conv2d_input', description=\"created by layer 'conv2d_input'\")\n"
          ]
        }
      ]
    },
    {
      "cell_type": "code",
      "source": [
        "# 합성곱 신경망의 입력과 출력만을 가져와 새로운 모델도 만들 수 있음\n",
        "conv_acti = keras.Model(model.input, model.layers[0].output)\n",
        "# model 객체의 predcit()메소드를 호출하면 최종 출력층의 확률을, predict() 메소드 사용시 첫 번째 Conv2D의 출력을 반환할 것"
      ],
      "metadata": {
        "id": "yfZp4s86-pyr"
      },
      "execution_count": 34,
      "outputs": []
    },
    {
      "cell_type": "markdown",
      "source": [
        "## 특성 맵 시각화"
      ],
      "metadata": {
        "id": "4EF4sTedBh5d"
      }
    },
    {
      "cell_type": "code",
      "source": [
        "(train_input, train_target), (test_input, test_target) =\\\n",
        "    keras.datasets.fashion_mnist.load_data()\n",
        "plt.imshow(train_input[0], cmap='gray_r')\n",
        "plt.show()"
      ],
      "metadata": {
        "colab": {
          "base_uri": "https://localhost:8080/",
          "height": 411
        },
        "id": "kvwdgAhqA_0u",
        "outputId": "e56c134c-59ba-434c-d21e-b9f55e39e537"
      },
      "execution_count": 35,
      "outputs": [
        {
          "output_type": "stream",
          "name": "stdout",
          "text": [
            "Downloading data from https://storage.googleapis.com/tensorflow/tf-keras-datasets/train-labels-idx1-ubyte.gz\n",
            "29515/29515 [==============================] - 0s 0us/step\n",
            "Downloading data from https://storage.googleapis.com/tensorflow/tf-keras-datasets/train-images-idx3-ubyte.gz\n",
            "26421880/26421880 [==============================] - 0s 0us/step\n",
            "Downloading data from https://storage.googleapis.com/tensorflow/tf-keras-datasets/t10k-labels-idx1-ubyte.gz\n",
            "5148/5148 [==============================] - 0s 0us/step\n",
            "Downloading data from https://storage.googleapis.com/tensorflow/tf-keras-datasets/t10k-images-idx3-ubyte.gz\n",
            "4422102/4422102 [==============================] - 0s 0us/step\n"
          ]
        },
        {
          "output_type": "display_data",
          "data": {
            "text/plain": [
              "<Figure size 432x288 with 1 Axes>"
            ],
            "image/png": "[encoded data removed]"
          },
          "metadata": {
            "needs_background": "light"
          }
        }
      ]
    },
    {
      "cell_type": "code",
      "source": [
        "# predict() 메소드는 항상 1차원 배열을 기대하기에 해당 데이터를 차원 변환 후 전달\n",
        "inputs = train_input[0:1].reshape(-1, 28, 28, 1) / 255.0\n",
        "feature_maps = conv_acti.predict(inputs)"
      ],
      "metadata": {
        "colab": {
          "base_uri": "https://localhost:8080/"
        },
        "id": "WROyP6SYBLbV",
        "outputId": "bd499222-2751-439b-ba83-40320344a139"
      },
      "execution_count": 36,
      "outputs": [
        {
          "output_type": "stream",
          "name": "stdout",
          "text": [
            "1/1 [==============================] - 1s 525ms/step\n"
          ]
        }
      ]
    },
    {
      "cell_type": "code",
      "source": [
        "print(feature_maps.shape)   # 첫 번째 차원은 배치 차원(첫 번째 축), 샘플 하나를 입력했기에 1이 됨"
      ],
      "metadata": {
        "colab": {
          "base_uri": "https://localhost:8080/"
        },
        "id": "C8X9sDN2CTkb",
        "outputId": "0cc9304a-536f-4ee8-f1bb-118f0a3d7552"
      },
      "execution_count": 37,
      "outputs": [
        {
          "output_type": "stream",
          "name": "stdout",
          "text": [
            "(1, 28, 28, 32)\n"
          ]
        }
      ]
    },
    {
      "cell_type": "code",
      "source": [
        "# 특성 맵을 그려보면,\n",
        "fig, axs = plt.subplots(4, 8, figsize=(15,8))\n",
        "for i in range(4):\n",
        "  for j in range(8):\n",
        "    axs[i, j].imshow(feature_maps[0,:,:,i*8+j])\n",
        "    axs[i, j].axis('off')\n",
        "plt.show()\n",
        "# 특성맵이 강하게 활성화한 부분을 볼 수 있음"
      ],
      "metadata": {
        "colab": {
          "base_uri": "https://localhost:8080/",
          "height": 460
        },
        "id": "RvMRisyiCaDy",
        "outputId": "14f15caa-ee02-45de-ba27-ce027ef997e4"
      },
      "execution_count": 39,
      "outputs": [
        {
          "output_type": "display_data",
          "data": {
            "text/plain": [
              "<Figure size 1080x576 with 32 Axes>"
            ],
            "image/png": "[encoded data removed]"
          },
          "metadata": {
            "needs_background": "light"
          }
        }
      ]
    },
    {
      "cell_type": "code",
      "source": [
        "# 두 번째 합성곱 층이 만든 특성 맵도 같은 방식으로 확인해 보면,\n",
        "conv2_acti = keras.Model(model.input, model.layers[2].output)"
      ],
      "metadata": {
        "id": "IqkXwe0iDKNi"
      },
      "execution_count": 40,
      "outputs": []
    },
    {
      "cell_type": "code",
      "source": [
        "inputs = train_input[0:1].reshape(-1,28,28,1)/255.0\n",
        "feature_maps = conv2_acti.predict(inputs)"
      ],
      "metadata": {
        "colab": {
          "base_uri": "https://localhost:8080/"
        },
        "id": "W9v0jItfDqpa",
        "outputId": "1d735db3-8056-4d6b-df42-dda334371613"
      },
      "execution_count": 41,
      "outputs": [
        {
          "output_type": "stream",
          "name": "stdout",
          "text": [
            "1/1 [==============================] - 0s 85ms/step\n"
          ]
        }
      ]
    },
    {
      "cell_type": "code",
      "source": [
        "print(feature_maps.shape)"
      ],
      "metadata": {
        "colab": {
          "base_uri": "https://localhost:8080/"
        },
        "id": "KeGTdj1oDyDw",
        "outputId": "16d96d47-ed9c-469f-de1e-4e3691b286d0"
      },
      "execution_count": 42,
      "outputs": [
        {
          "output_type": "stream",
          "name": "stdout",
          "text": [
            "(1, 14, 14, 64)\n"
          ]
        }
      ]
    },
    {
      "cell_type": "code",
      "source": [
        "fig,axs = plt.subplots(8,8, figsize=(12,12))\n",
        "for i in range(8):\n",
        "  for j in range(8):\n",
        "    axs[i,j].imshow(feature_maps[0,:,:,i*8 + j])\n",
        "    axs[i,j].axis('off')\n",
        "plt.show()\n",
        "\n",
        "# 두 번째 합성곱 층의 필터 크기는 (3,3,32)로, 첫 필터가 앞서 출력한 32개 특성 맵과 곱해져 두 번째 합성곱 층의 첫 특성 맵이 되므로 (14,14,32) 특성 맵에서 어떤 부위를 감지하는지 지고간적 이해가 어려움\n",
        "# 합성곱 층이 쌓일수록 이러한 현상이 심해짐\n",
        "# 선위한 합성곱 층은 이미지의 시각정 정보를 감지, 후위한 층은 그를 바탕으로 추상적 정보를 학습함을 알 수 있음(세부적 정보)"
      ],
      "metadata": {
        "colab": {
          "base_uri": "https://localhost:8080/",
          "height": 683
        },
        "id": "sejHykr7D1rJ",
        "outputId": "c89dbde2-ffb3-469c-e927-0ec2797813aa"
      },
      "execution_count": 43,
      "outputs": [
        {
          "output_type": "display_data",
          "data": {
            "text/plain": [
              "<Figure size 864x864 with 64 Axes>"
            ],
            "image/png": "[encoded data removed]"
          },
          "metadata": {
            "needs_background": "light"
          }
        }
      ]
    },
    {
      "cell_type": "markdown",
      "source": [
        "# 전체 소스코드"
      ],
      "metadata": {
        "id": "fMUk6KOPE9AJ"
      }
    },
    {
      "cell_type": "code",
      "source": [],
      "metadata": {
        "id": "oh0x7VVTEHRS"
      },
      "execution_count": null,
      "outputs": []
    },
    {
      "cell_type": "markdown",
      "metadata": {
        "id": "Khb4cafb5-It"
      },
      "source": [
        "# 합성곱 신경망의 시각화"
      ]
    },
    {
      "cell_type": "markdown",
      "metadata": {
        "id": "gtBpMgcc5-I0"
      },
      "source": [
        "<table align=\"left\">\n",
        "  <td>\n",
        "    <a target=\"_blank\" href=\"https://colab.research.google.com/github/rickiepark/hg-mldl/blob/master/8-3.ipynb\"><img src=\"https://www.tensorflow.org/images/colab_logo_32px.png\" />구글 코랩에서 실행하기</a>\n",
        "  </td>\n",
        "</table>"
      ]
    },
    {
      "cell_type": "code",
      "execution_count": null,
      "metadata": {
        "id": "CujvDUBV_maC"
      },
      "outputs": [],
      "source": [
        "# 실행마다 동일한 결과를 얻기 위해 케라스에 랜덤 시드를 사용하고 텐서플로 연산을 결정적으로 만듭니다. \n",
        "import tensorflow as tf\n",
        "\n",
        "tf.keras.utils.set_random_seed(42)\n",
        "tf.config.experimental.enable_op_determinism()"
      ]
    },
    {
      "cell_type": "markdown",
      "metadata": {
        "id": "10YURv8s5-I0"
      },
      "source": [
        "## 가중치 시각화"
      ]
    },
    {
      "cell_type": "code",
      "execution_count": null,
      "metadata": {
        "id": "Q7Uqs_t65-I0"
      },
      "outputs": [],
      "source": [
        "from tensorflow import keras"
      ]
    },
    {
      "cell_type": "code",
      "execution_count": null,
      "metadata": {
        "colab": {
          "base_uri": "https://localhost:8080/"
        },
        "id": "FdM7Nyis5-I1",
        "outputId": "6306b925-0861-40bb-f3ee-d906faa91f7d"
      },
      "outputs": [
        {
          "name": "stdout",
          "output_type": "stream",
          "text": [
            "--2022-05-19 01:28:27--  https://github.com/rickiepark/hg-mldl/raw/master/best-cnn-model.h5\n",
            "Resolving github.com (github.com)... 140.82.113.4\n",
            "Connecting to github.com (github.com)|140.82.113.4|:443... connected.\n",
            "HTTP request sent, awaiting response... 302 Found\n",
            "Location: https://raw.githubusercontent.com/rickiepark/hg-mldl/master/best-cnn-model.h5 [following]\n",
            "--2022-05-19 01:28:28--  https://raw.githubusercontent.com/rickiepark/hg-mldl/master/best-cnn-model.h5\n",
            "Resolving raw.githubusercontent.com (raw.githubusercontent.com)... 185.199.110.133, 185.199.111.133, 185.199.108.133, ...\n",
            "Connecting to raw.githubusercontent.com (raw.githubusercontent.com)|185.199.110.133|:443... connected.\n",
            "HTTP request sent, awaiting response... 200 OK\n",
            "Length: 4049416 (3.9M) [application/octet-stream]\n",
            "Saving to: 'best-cnn-model.h5.2'\n",
            "\n",
            "best-cnn-model.h5.2 100%[===================>]   3.86M  --.-KB/s    in 0.08s   \n",
            "\n",
            "2022-05-19 01:28:28 (47.6 MB/s) - 'best-cnn-model.h5.2' saved [4049416/4049416]\n",
            "\n"
          ]
        }
      ],
      "source": [
        "# 코랩에서 실행하는 경우에는 다음 명령을 실행하여 best-cnn-model.h5 파일을 다운로드받아 사용하세요.\n",
        "!wget https://github.com/rickiepark/hg-mldl/raw/master/best-cnn-model.h5"
      ]
    },
    {
      "cell_type": "code",
      "execution_count": null,
      "metadata": {
        "id": "y6Fx0cai5-I1",
        "outputId": "e08d065d-e5d8-4e02-96eb-148783710bb7"
      },
      "outputs": [
        {
          "name": "stderr",
          "output_type": "stream",
          "text": [
            "2022-05-19 01:28:28.480940: I tensorflow/core/platform/cpu_feature_guard.cc:193] This TensorFlow binary is optimized with oneAPI Deep Neural Network Library (oneDNN) to use the following CPU instructions in performance-critical operations:  AVX2 AVX512F FMA\n",
            "To enable them in other operations, rebuild TensorFlow with the appropriate compiler flags.\n"
          ]
        }
      ],
      "source": [
        "model = keras.models.load_model('best-cnn-model.h5')"
      ]
    },
    {
      "cell_type": "code",
      "execution_count": null,
      "metadata": {
        "colab": {
          "base_uri": "https://localhost:8080/"
        },
        "id": "tOhJnNvW5-I1",
        "outputId": "bc5fa0a3-acdc-4428-c9ea-544acd6e16ef",
        "scrolled": true
      },
      "outputs": [
        {
          "data": {
            "text/plain": [
              "[<keras.layers.convolutional.conv2d.Conv2D at 0x7f1da1df4250>,\n",
              " <keras.layers.pooling.max_pooling2d.MaxPooling2D at 0x7f1da1df4fa0>,\n",
              " <keras.layers.convolutional.conv2d.Conv2D at 0x7f1da0533730>,\n",
              " <keras.layers.pooling.max_pooling2d.MaxPooling2D at 0x7f1da04ec4f0>,\n",
              " <keras.layers.reshaping.flatten.Flatten at 0x7f1da04fe9a0>,\n",
              " <keras.layers.core.dense.Dense at 0x7f1da04fef40>,\n",
              " <keras.layers.regularization.dropout.Dropout at 0x7f1da04feca0>,\n",
              " <keras.layers.core.dense.Dense at 0x7f1da0506d30>]"
            ]
          },
          "execution_count": 5,
          "metadata": {},
          "output_type": "execute_result"
        }
      ],
      "source": [
        "model.layers"
      ]
    },
    {
      "cell_type": "code",
      "execution_count": null,
      "metadata": {
        "colab": {
          "base_uri": "https://localhost:8080/"
        },
        "id": "7e-EMS_h5-I2",
        "outputId": "b8169942-9df2-4136-bb4e-f70005ab06c0",
        "scrolled": true
      },
      "outputs": [
        {
          "name": "stdout",
          "output_type": "stream",
          "text": [
            "(3, 3, 1, 32) (32,)\n"
          ]
        }
      ],
      "source": [
        "conv = model.layers[0]\n",
        "\n",
        "print(conv.weights[0].shape, conv.weights[1].shape)"
      ]
    },
    {
      "cell_type": "code",
      "execution_count": null,
      "metadata": {
        "colab": {
          "base_uri": "https://localhost:8080/"
        },
        "id": "D5WNlXS55-I3",
        "outputId": "4e058ee3-517e-4734-8f72-a4cb4f8c7cfa"
      },
      "outputs": [
        {
          "name": "stdout",
          "output_type": "stream",
          "text": [
            "-0.021033935 0.23466988\n"
          ]
        }
      ],
      "source": [
        "conv_weights = conv.weights[0].numpy()\n",
        "\n",
        "print(conv_weights.mean(), conv_weights.std())"
      ]
    },
    {
      "cell_type": "code",
      "execution_count": null,
      "metadata": {
        "id": "Mm_xATS95-I3"
      },
      "outputs": [],
      "source": [
        "import matplotlib.pyplot as plt"
      ]
    },
    {
      "cell_type": "code",
      "execution_count": null,
      "metadata": {
        "colab": {
          "base_uri": "https://localhost:8080/",
          "height": 279
        },
        "id": "lm37R-hD5-I3",
        "outputId": "68810f67-0486-4c02-a71d-d44bc6c0760d"
      },
      "outputs": [
        {
          "data": {
            "image/png": "[encoded data removed]",
            "text/plain": [
              "<Figure size 432x288 with 1 Axes>"
            ]
          },
          "metadata": {
            "needs_background": "light"
          },
          "output_type": "display_data"
        }
      ],
      "source": [
        "plt.hist(conv_weights.reshape(-1, 1))\n",
        "plt.xlabel('weight')\n",
        "plt.ylabel('count')\n",
        "plt.show()"
      ]
    },
    {
      "cell_type": "code",
      "execution_count": null,
      "metadata": {
        "colab": {
          "base_uri": "https://localhost:8080/",
          "height": 134
        },
        "id": "FBxjPV045-I4",
        "outputId": "5e83f4fb-69f6-4e5b-cb3f-81e3086dc079",
        "scrolled": true
      },
      "outputs": [
        {
          "data": {
            "image/png": "[encoded data removed]",
            "text/plain": [
              "<Figure size 1080x144 with 32 Axes>"
            ]
          },
          "metadata": {
            "needs_background": "light"
          },
          "output_type": "display_data"
        }
      ],
      "source": [
        "fig, axs = plt.subplots(2, 16, figsize=(15,2))\n",
        "\n",
        "for i in range(2):\n",
        "    for j in range(16):\n",
        "        axs[i, j].imshow(conv_weights[:,:,0,i*16 + j], vmin=-0.5, vmax=0.5)\n",
        "        axs[i, j].axis('off')\n",
        "\n",
        "plt.show()"
      ]
    },
    {
      "cell_type": "code",
      "execution_count": null,
      "metadata": {
        "id": "P-r4Dx2N5-I4"
      },
      "outputs": [],
      "source": [
        "no_training_model = keras.Sequential()\n",
        "\n",
        "no_training_model.add(keras.layers.Conv2D(32, kernel_size=3, activation='relu', \n",
        "                                          padding='same', input_shape=(28,28,1)))"
      ]
    },
    {
      "cell_type": "code",
      "execution_count": null,
      "metadata": {
        "colab": {
          "base_uri": "https://localhost:8080/"
        },
        "id": "SRz0Z0z_5-I4",
        "outputId": "cae417af-a18f-4463-9574-94123cc931f5"
      },
      "outputs": [
        {
          "name": "stdout",
          "output_type": "stream",
          "text": [
            "(3, 3, 1, 32)\n"
          ]
        }
      ],
      "source": [
        "no_training_conv = no_training_model.layers[0]\n",
        "\n",
        "print(no_training_conv.weights[0].shape)"
      ]
    },
    {
      "cell_type": "code",
      "execution_count": null,
      "metadata": {
        "colab": {
          "base_uri": "https://localhost:8080/"
        },
        "id": "7FUqZL695-I4",
        "outputId": "e98160a3-4849-497f-d29c-041f17fcb6fa"
      },
      "outputs": [
        {
          "name": "stdout",
          "output_type": "stream",
          "text": [
            "-0.0029798597 0.08092386\n"
          ]
        }
      ],
      "source": [
        "no_training_weights = no_training_conv.weights[0].numpy()\n",
        "\n",
        "print(no_training_weights.mean(), no_training_weights.std())"
      ]
    },
    {
      "cell_type": "code",
      "execution_count": null,
      "metadata": {
        "colab": {
          "base_uri": "https://localhost:8080/",
          "height": 279
        },
        "id": "DktjNm4Z5-I5",
        "outputId": "d25aa974-915f-4dc1-f51f-6e0bfd835614"
      },
      "outputs": [
        {
          "data": {
            "image/png": "[encoded data removed]",
            "text/plain": [
              "<Figure size 432x288 with 1 Axes>"
            ]
          },
          "metadata": {
            "needs_background": "light"
          },
          "output_type": "display_data"
        }
      ],
      "source": [
        "plt.hist(no_training_weights.reshape(-1, 1))\n",
        "plt.xlabel('weight')\n",
        "plt.ylabel('count')\n",
        "plt.show()"
      ]
    },
    {
      "cell_type": "code",
      "execution_count": null,
      "metadata": {
        "colab": {
          "base_uri": "https://localhost:8080/",
          "height": 134
        },
        "id": "b7QmwoUe5-I5",
        "outputId": "c0df75ae-5501-4dc2-b567-8664ad0cf2c5",
        "scrolled": true
      },
      "outputs": [
        {
          "data": {
            "image/png": "[encoded data removed]",
            "text/plain": [
              "<Figure size 1080x144 with 32 Axes>"
            ]
          },
          "metadata": {
            "needs_background": "light"
          },
          "output_type": "display_data"
        }
      ],
      "source": [
        "fig, axs = plt.subplots(2, 16, figsize=(15,2))\n",
        "\n",
        "for i in range(2):\n",
        "    for j in range(16):\n",
        "        axs[i, j].imshow(no_training_weights[:,:,0,i*16 + j], vmin=-0.5, vmax=0.5)\n",
        "        axs[i, j].axis('off')\n",
        "\n",
        "plt.show()"
      ]
    },
    {
      "cell_type": "markdown",
      "metadata": {
        "id": "GEc9KyP35-I6"
      },
      "source": [
        "## 함수형 API"
      ]
    },
    {
      "cell_type": "code",
      "execution_count": null,
      "metadata": {
        "colab": {
          "base_uri": "https://localhost:8080/"
        },
        "id": "RZ27RyZJ5-I6",
        "outputId": "71b66fba-066f-4e98-db5a-ae3c7563ad09"
      },
      "outputs": [
        {
          "name": "stdout",
          "output_type": "stream",
          "text": [
            "KerasTensor(type_spec=TensorSpec(shape=(None, 28, 28, 1), dtype=tf.float32, name='conv2d_input'), name='conv2d_input', description=\"created by layer 'conv2d_input'\")\n"
          ]
        }
      ],
      "source": [
        "print(model.input)"
      ]
    },
    {
      "cell_type": "code",
      "execution_count": null,
      "metadata": {
        "id": "FfHfv9w_5-I6"
      },
      "outputs": [],
      "source": [
        "conv_acti = keras.Model(model.input, model.layers[0].output)"
      ]
    },
    {
      "cell_type": "markdown",
      "metadata": {
        "id": "CF6JzHj-5-I6"
      },
      "source": [
        "## 특성 맵 시각화"
      ]
    },
    {
      "cell_type": "code",
      "execution_count": null,
      "metadata": {
        "id": "TU5ENBPB5-I7"
      },
      "outputs": [],
      "source": [
        "(train_input, train_target), (test_input, test_target) = keras.datasets.fashion_mnist.load_data()"
      ]
    },
    {
      "cell_type": "code",
      "execution_count": null,
      "metadata": {
        "colab": {
          "base_uri": "https://localhost:8080/",
          "height": 265
        },
        "id": "8-GBYsqm5-I7",
        "outputId": "65a4d48f-367a-4f54-8176-76775b32441d"
      },
      "outputs": [
        {
          "data": {
            "image/png": "[encoded data removed]",
            "text/plain": [
              "<Figure size 432x288 with 1 Axes>"
            ]
          },
          "metadata": {
            "needs_background": "light"
          },
          "output_type": "display_data"
        }
      ],
      "source": [
        "plt.imshow(train_input[0], cmap='gray_r')\n",
        "plt.show()"
      ]
    },
    {
      "cell_type": "code",
      "execution_count": null,
      "metadata": {
        "id": "aJDrgyzo5-I7",
        "outputId": "e3550fdb-1a95-4be1-906e-6b4f179b6cdf"
      },
      "outputs": [
        {
          "name": "stdout",
          "output_type": "stream",
          "text": [
            "1/1 [==============================] - 0s 235ms/step\n"
          ]
        }
      ],
      "source": [
        "inputs = train_input[0:1].reshape(-1, 28, 28, 1)/255.0\n",
        "\n",
        "feature_maps = conv_acti.predict(inputs)"
      ]
    },
    {
      "cell_type": "code",
      "execution_count": null,
      "metadata": {
        "colab": {
          "base_uri": "https://localhost:8080/"
        },
        "id": "wYMHCQ0C5-I7",
        "outputId": "98ca5d17-8590-4dfc-b4c1-98b06731cef6"
      },
      "outputs": [
        {
          "name": "stdout",
          "output_type": "stream",
          "text": [
            "(1, 28, 28, 32)\n"
          ]
        }
      ],
      "source": [
        "print(feature_maps.shape)"
      ]
    },
    {
      "cell_type": "code",
      "execution_count": null,
      "metadata": {
        "colab": {
          "base_uri": "https://localhost:8080/",
          "height": 460
        },
        "id": "n9hhqasw5-I7",
        "outputId": "2bf80584-39aa-4967-a64b-621b4e261533"
      },
      "outputs": [
        {
          "data": {
            "image/png": "[encoded data removed]",
            "text/plain": [
              "<Figure size 1080x576 with 32 Axes>"
            ]
          },
          "metadata": {
            "needs_background": "light"
          },
          "output_type": "display_data"
        }
      ],
      "source": [
        "fig, axs = plt.subplots(4, 8, figsize=(15,8))\n",
        "\n",
        "for i in range(4):\n",
        "    for j in range(8):\n",
        "        axs[i, j].imshow(feature_maps[0,:,:,i*8 + j])\n",
        "        axs[i, j].axis('off')\n",
        "\n",
        "plt.show()"
      ]
    },
    {
      "cell_type": "code",
      "execution_count": null,
      "metadata": {
        "id": "RBCPiHm_5-I8"
      },
      "outputs": [],
      "source": [
        "conv2_acti = keras.Model(model.input, model.layers[2].output)"
      ]
    },
    {
      "cell_type": "code",
      "execution_count": null,
      "metadata": {
        "id": "n5U3pxZc5-I8",
        "outputId": "e5de3f38-3abf-4d17-b23f-4827c59d0a21"
      },
      "outputs": [
        {
          "name": "stdout",
          "output_type": "stream",
          "text": [
            "1/1 [==============================] - 0s 72ms/step\n"
          ]
        }
      ],
      "source": [
        "feature_maps = conv2_acti.predict(train_input[0:1].reshape(-1, 28, 28, 1)/255.0)"
      ]
    },
    {
      "cell_type": "code",
      "execution_count": null,
      "metadata": {
        "colab": {
          "base_uri": "https://localhost:8080/"
        },
        "id": "9QcCxjOf5-I8",
        "outputId": "72e976df-3572-476d-b136-07279a68d9b7"
      },
      "outputs": [
        {
          "name": "stdout",
          "output_type": "stream",
          "text": [
            "(1, 14, 14, 64)\n"
          ]
        }
      ],
      "source": [
        "print(feature_maps.shape)"
      ]
    },
    {
      "cell_type": "code",
      "execution_count": null,
      "metadata": {
        "colab": {
          "base_uri": "https://localhost:8080/",
          "height": 683
        },
        "id": "6xc2oG6D5-I8",
        "outputId": "964e99a6-334d-4f6d-abac-7f177c1b13a0"
      },
      "outputs": [
        {
          "data": {
            "image/png": "[encoded data removed]",
            "text/plain": [
              "<Figure size 864x864 with 64 Axes>"
            ]
          },
          "metadata": {
            "needs_background": "light"
          },
          "output_type": "display_data"
        }
      ],
      "source": [
        "fig, axs = plt.subplots(8, 8, figsize=(12,12))\n",
        "\n",
        "for i in range(8):\n",
        "    for j in range(8):\n",
        "        axs[i, j].imshow(feature_maps[0,:,:,i*8 + j])\n",
        "        axs[i, j].axis('off')\n",
        "\n",
        "plt.show()"
      ]
    },
    {
      "cell_type": "markdown",
      "source": [
        "# 총 정리"
      ],
      "metadata": {
        "id": "BYxM4kokFBaj"
      }
    },
    {
      "cell_type": "markdown",
      "source": [
        "## 키워드"
      ],
      "metadata": {
        "id": "2Z02mUJvFGRe"
      }
    },
    {
      "cell_type": "markdown",
      "source": [
        "### 가중치 시각화\n",
        "      합성곱 층의 가중치를 이미지로 출력하는 것\n",
        "      합성곱 신경망은 주로 이미지를 다루기에 가중치가 시각적인 패턴을 학습하는지 알아볼 수 있음"
      ],
      "metadata": {
        "id": "apFu1vwWFHYd"
      }
    },
    {
      "cell_type": "markdown",
      "source": [
        "### 특성 맵 시각화\n",
        "      합성곱 층의 활성화 출력을 이미지로 그리는 것\n",
        "      가중치 시각화와 함께 비교하여 각 필터가 이미지의 어느 부분을 활성화시키는지 확인할 수 있음"
      ],
      "metadata": {
        "id": "oKDGVHn5FQvm"
      }
    },
    {
      "cell_type": "markdown",
      "source": [
        "### 함수형 API\n",
        "      케라스에서 신경망 모델을 만드는 방법 중 하나\n",
        "      *입 출력이 다수일 때 Sequential()보다 용이*\n",
        "      Model 클래스에 모델의 입력과 출력을 지정함\n",
        "      전형적으로 입력은 Input()함수를 사용하여 정의하고 출력은 마지막 층의 출력으로 정의함"
      ],
      "metadata": {
        "id": "sL5qqb6uFZMU"
      }
    },
    {
      "cell_type": "markdown",
      "source": [
        "## 핵심 패키지와 함수"
      ],
      "metadata": {
        "id": "by3dff5fF2qr"
      }
    },
    {
      "cell_type": "markdown",
      "source": [
        "### TensorFlow"
      ],
      "metadata": {
        "id": "CnHXCS4yF4yK"
      }
    },
    {
      "cell_type": "markdown",
      "source": [
        "#### Model\n",
        "      케라스 모델을 만드는 클래스\n",
        "      첫 매개변수인 inputs에 모델의 입력 또는 입력의 리스트를 지정\n",
        "      두 번째 매개변수인 outputs에 모델의 출력 또는 출력의 리스트를 지정\n",
        "      name 매개변수에 모델의 이름을 지정\n",
        "      ex) conv2_acti = keras.Model(model.input, model.layers[2].output)"
      ],
      "metadata": {
        "id": "-JBbZtuAF7Nz"
      }
    },
    {
      "cell_type": "markdown",
      "source": [
        "## 팁"
      ],
      "metadata": {
        "id": "mtic1OjhGMdZ"
      }
    },
    {
      "cell_type": "markdown",
      "source": [
        "*   입, 출력이 다수 일 때에는 함수형 API를 이용해볼 것\n",
        "*   Sequential 모델에서 첫 번째 합성곱 층의 output은 두 번째 합성곱 층의 input임, 이는 모델의 입력이 아닌 동작 과정의 일부로 이해하기!\n",
        "\n",
        "    model.layers[0].output은 모델의 입력을 바르게 참조한 것이 아님!\n",
        "\n",
        "    \n",
        "    model.layers[0].input\n",
        "    model._layers[0].input\n",
        "    model._layers[0].output\n",
        "    은 Sequential 모델의 입력을 제대로 참조한 것이 맞음"
      ],
      "metadata": {
        "id": "fhVMfgpvGOdR"
      }
    }
  ]
}